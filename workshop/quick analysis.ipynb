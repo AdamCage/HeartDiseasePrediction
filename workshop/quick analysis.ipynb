{
 "cells": [
  {
   "cell_type": "code",
   "execution_count": 1,
   "outputs": [],
   "source": [
    "import pandas as pd\n",
    "import matplotlib.pyplot as plt\n",
    "import seaborn as sns"
   ],
   "metadata": {
    "collapsed": false,
    "pycharm": {
     "name": "#%%\n"
    }
   }
  },
  {
   "cell_type": "code",
   "execution_count": 2,
   "outputs": [],
   "source": [
    "def create_general_analysis(df, asc=False):\n",
    "    unique_values = []\n",
    "    for i in df.columns:\n",
    "        unique_values.append(df[i].sort_values(ascending=asc).unique())  # asc\n",
    "\n",
    "    table_scan = pd.DataFrame(\n",
    "        {\n",
    "            'values_num': df.count(),\n",
    "            'nan_values_num': df.isna().sum(),\n",
    "            'occupancy': 100 - (df.isna().sum() / (df.isna().sum() + df.notna().sum()) * 100),\n",
    "            'unique_values_num': df.nunique(),\n",
    "            # 'min_value': df.min(),\n",
    "            # 'max_value': df.max(),\n",
    "            'unique_values': unique_values,\n",
    "            'dtype': df.dtypes\n",
    "        }\n",
    "    )\n",
    "    print('General data analysis:')\n",
    "    print()\n",
    "    print('Shape of the table:     ', df.shape)\n",
    "    print(f'Duplicates in the table: {df.duplicated().sum()}, ({round(df.duplicated().sum() / df.shape[0], 4) * 100}%)')\n",
    "\n",
    "    return table_scan"
   ],
   "metadata": {
    "collapsed": false,
    "pycharm": {
     "name": "#%%\n"
    }
   }
  },
  {
   "cell_type": "markdown",
   "source": [
    "# 1"
   ],
   "metadata": {
    "collapsed": false,
    "pycharm": {
     "name": "#%% md\n"
    }
   }
  },
  {
   "cell_type": "code",
   "execution_count": 3,
   "outputs": [
    {
     "data": {
      "text/plain": "     age  sex  cp  trtbps  chol  fbs  restecg  thalachh  exng  oldpeak  slp  \\\n0     63    1   3     145   233    1        0       150     0      2.3    0   \n1     37    1   2     130   250    0        1       187     0      3.5    0   \n2     41    0   1     130   204    0        0       172     0      1.4    2   \n3     56    1   1     120   236    0        1       178     0      0.8    2   \n4     57    0   0     120   354    0        1       163     1      0.6    2   \n..   ...  ...  ..     ...   ...  ...      ...       ...   ...      ...  ...   \n298   57    0   0     140   241    0        1       123     1      0.2    1   \n299   45    1   3     110   264    0        1       132     0      1.2    1   \n300   68    1   0     144   193    1        1       141     0      3.4    1   \n301   57    1   0     130   131    0        1       115     1      1.2    1   \n302   57    0   1     130   236    0        0       174     0      0.0    1   \n\n     caa  thall  output  \n0      0      1       1  \n1      0      2       1  \n2      0      2       1  \n3      0      2       1  \n4      0      2       1  \n..   ...    ...     ...  \n298    0      3       0  \n299    0      3       0  \n300    2      3       0  \n301    1      3       0  \n302    1      2       0  \n\n[303 rows x 14 columns]",
      "text/html": "<div>\n<style scoped>\n    .dataframe tbody tr th:only-of-type {\n        vertical-align: middle;\n    }\n\n    .dataframe tbody tr th {\n        vertical-align: top;\n    }\n\n    .dataframe thead th {\n        text-align: right;\n    }\n</style>\n<table border=\"1\" class=\"dataframe\">\n  <thead>\n    <tr style=\"text-align: right;\">\n      <th></th>\n      <th>age</th>\n      <th>sex</th>\n      <th>cp</th>\n      <th>trtbps</th>\n      <th>chol</th>\n      <th>fbs</th>\n      <th>restecg</th>\n      <th>thalachh</th>\n      <th>exng</th>\n      <th>oldpeak</th>\n      <th>slp</th>\n      <th>caa</th>\n      <th>thall</th>\n      <th>output</th>\n    </tr>\n  </thead>\n  <tbody>\n    <tr>\n      <th>0</th>\n      <td>63</td>\n      <td>1</td>\n      <td>3</td>\n      <td>145</td>\n      <td>233</td>\n      <td>1</td>\n      <td>0</td>\n      <td>150</td>\n      <td>0</td>\n      <td>2.3</td>\n      <td>0</td>\n      <td>0</td>\n      <td>1</td>\n      <td>1</td>\n    </tr>\n    <tr>\n      <th>1</th>\n      <td>37</td>\n      <td>1</td>\n      <td>2</td>\n      <td>130</td>\n      <td>250</td>\n      <td>0</td>\n      <td>1</td>\n      <td>187</td>\n      <td>0</td>\n      <td>3.5</td>\n      <td>0</td>\n      <td>0</td>\n      <td>2</td>\n      <td>1</td>\n    </tr>\n    <tr>\n      <th>2</th>\n      <td>41</td>\n      <td>0</td>\n      <td>1</td>\n      <td>130</td>\n      <td>204</td>\n      <td>0</td>\n      <td>0</td>\n      <td>172</td>\n      <td>0</td>\n      <td>1.4</td>\n      <td>2</td>\n      <td>0</td>\n      <td>2</td>\n      <td>1</td>\n    </tr>\n    <tr>\n      <th>3</th>\n      <td>56</td>\n      <td>1</td>\n      <td>1</td>\n      <td>120</td>\n      <td>236</td>\n      <td>0</td>\n      <td>1</td>\n      <td>178</td>\n      <td>0</td>\n      <td>0.8</td>\n      <td>2</td>\n      <td>0</td>\n      <td>2</td>\n      <td>1</td>\n    </tr>\n    <tr>\n      <th>4</th>\n      <td>57</td>\n      <td>0</td>\n      <td>0</td>\n      <td>120</td>\n      <td>354</td>\n      <td>0</td>\n      <td>1</td>\n      <td>163</td>\n      <td>1</td>\n      <td>0.6</td>\n      <td>2</td>\n      <td>0</td>\n      <td>2</td>\n      <td>1</td>\n    </tr>\n    <tr>\n      <th>...</th>\n      <td>...</td>\n      <td>...</td>\n      <td>...</td>\n      <td>...</td>\n      <td>...</td>\n      <td>...</td>\n      <td>...</td>\n      <td>...</td>\n      <td>...</td>\n      <td>...</td>\n      <td>...</td>\n      <td>...</td>\n      <td>...</td>\n      <td>...</td>\n    </tr>\n    <tr>\n      <th>298</th>\n      <td>57</td>\n      <td>0</td>\n      <td>0</td>\n      <td>140</td>\n      <td>241</td>\n      <td>0</td>\n      <td>1</td>\n      <td>123</td>\n      <td>1</td>\n      <td>0.2</td>\n      <td>1</td>\n      <td>0</td>\n      <td>3</td>\n      <td>0</td>\n    </tr>\n    <tr>\n      <th>299</th>\n      <td>45</td>\n      <td>1</td>\n      <td>3</td>\n      <td>110</td>\n      <td>264</td>\n      <td>0</td>\n      <td>1</td>\n      <td>132</td>\n      <td>0</td>\n      <td>1.2</td>\n      <td>1</td>\n      <td>0</td>\n      <td>3</td>\n      <td>0</td>\n    </tr>\n    <tr>\n      <th>300</th>\n      <td>68</td>\n      <td>1</td>\n      <td>0</td>\n      <td>144</td>\n      <td>193</td>\n      <td>1</td>\n      <td>1</td>\n      <td>141</td>\n      <td>0</td>\n      <td>3.4</td>\n      <td>1</td>\n      <td>2</td>\n      <td>3</td>\n      <td>0</td>\n    </tr>\n    <tr>\n      <th>301</th>\n      <td>57</td>\n      <td>1</td>\n      <td>0</td>\n      <td>130</td>\n      <td>131</td>\n      <td>0</td>\n      <td>1</td>\n      <td>115</td>\n      <td>1</td>\n      <td>1.2</td>\n      <td>1</td>\n      <td>1</td>\n      <td>3</td>\n      <td>0</td>\n    </tr>\n    <tr>\n      <th>302</th>\n      <td>57</td>\n      <td>0</td>\n      <td>1</td>\n      <td>130</td>\n      <td>236</td>\n      <td>0</td>\n      <td>0</td>\n      <td>174</td>\n      <td>0</td>\n      <td>0.0</td>\n      <td>1</td>\n      <td>1</td>\n      <td>2</td>\n      <td>0</td>\n    </tr>\n  </tbody>\n</table>\n<p>303 rows × 14 columns</p>\n</div>"
     },
     "execution_count": 3,
     "metadata": {},
     "output_type": "execute_result"
    }
   ],
   "source": [
    "pd.read_csv('heart.csv')"
   ],
   "metadata": {
    "collapsed": false,
    "pycharm": {
     "name": "#%%\n"
    }
   }
  },
  {
   "cell_type": "code",
   "execution_count": 7,
   "outputs": [
    {
     "name": "stdout",
     "output_type": "stream",
     "text": [
      "General data analysis:\n",
      "\n",
      "Shape of the table:      (303, 14)\n",
      "Duplicates in the table: 1, (0.33%)\n"
     ]
    },
    {
     "data": {
      "text/plain": "          values_num  nan_values_num  occupancy  unique_values_num  \\\nage              303               0      100.0                 41   \nsex              303               0      100.0                  2   \ncp               303               0      100.0                  4   \ntrtbps           303               0      100.0                 49   \nchol             303               0      100.0                152   \nfbs              303               0      100.0                  2   \nrestecg          303               0      100.0                  3   \nthalachh         303               0      100.0                 91   \nexng             303               0      100.0                  2   \noldpeak          303               0      100.0                 40   \nslp              303               0      100.0                  3   \ncaa              303               0      100.0                  5   \nthall            303               0      100.0                  4   \noutput           303               0      100.0                  2   \n\n                                              unique_values    dtype  \nage       [77, 76, 74, 71, 70, 69, 68, 67, 66, 65, 64, 6...    int64  \nsex                                                  [1, 0]    int64  \ncp                                             [3, 2, 1, 0]    int64  \ntrtbps    [200, 192, 180, 178, 174, 172, 170, 165, 164, ...    int64  \nchol      [564, 417, 409, 407, 394, 360, 354, 353, 342, ...    int64  \nfbs                                                  [1, 0]    int64  \nrestecg                                           [2, 1, 0]    int64  \nthalachh  [202, 195, 194, 192, 190, 188, 187, 186, 185, ...    int64  \nexng                                                 [1, 0]    int64  \noldpeak   [6.2, 5.6, 4.4, 4.2, 4.0, 3.8, 3.6, 3.5, 3.4, ...  float64  \nslp                                               [2, 1, 0]    int64  \ncaa                                         [4, 3, 2, 1, 0]    int64  \nthall                                          [3, 2, 1, 0]    int64  \noutput                                               [1, 0]    int64  ",
      "text/html": "<div>\n<style scoped>\n    .dataframe tbody tr th:only-of-type {\n        vertical-align: middle;\n    }\n\n    .dataframe tbody tr th {\n        vertical-align: top;\n    }\n\n    .dataframe thead th {\n        text-align: right;\n    }\n</style>\n<table border=\"1\" class=\"dataframe\">\n  <thead>\n    <tr style=\"text-align: right;\">\n      <th></th>\n      <th>values_num</th>\n      <th>nan_values_num</th>\n      <th>occupancy</th>\n      <th>unique_values_num</th>\n      <th>unique_values</th>\n      <th>dtype</th>\n    </tr>\n  </thead>\n  <tbody>\n    <tr>\n      <th>age</th>\n      <td>303</td>\n      <td>0</td>\n      <td>100.0</td>\n      <td>41</td>\n      <td>[77, 76, 74, 71, 70, 69, 68, 67, 66, 65, 64, 6...</td>\n      <td>int64</td>\n    </tr>\n    <tr>\n      <th>sex</th>\n      <td>303</td>\n      <td>0</td>\n      <td>100.0</td>\n      <td>2</td>\n      <td>[1, 0]</td>\n      <td>int64</td>\n    </tr>\n    <tr>\n      <th>cp</th>\n      <td>303</td>\n      <td>0</td>\n      <td>100.0</td>\n      <td>4</td>\n      <td>[3, 2, 1, 0]</td>\n      <td>int64</td>\n    </tr>\n    <tr>\n      <th>trtbps</th>\n      <td>303</td>\n      <td>0</td>\n      <td>100.0</td>\n      <td>49</td>\n      <td>[200, 192, 180, 178, 174, 172, 170, 165, 164, ...</td>\n      <td>int64</td>\n    </tr>\n    <tr>\n      <th>chol</th>\n      <td>303</td>\n      <td>0</td>\n      <td>100.0</td>\n      <td>152</td>\n      <td>[564, 417, 409, 407, 394, 360, 354, 353, 342, ...</td>\n      <td>int64</td>\n    </tr>\n    <tr>\n      <th>fbs</th>\n      <td>303</td>\n      <td>0</td>\n      <td>100.0</td>\n      <td>2</td>\n      <td>[1, 0]</td>\n      <td>int64</td>\n    </tr>\n    <tr>\n      <th>restecg</th>\n      <td>303</td>\n      <td>0</td>\n      <td>100.0</td>\n      <td>3</td>\n      <td>[2, 1, 0]</td>\n      <td>int64</td>\n    </tr>\n    <tr>\n      <th>thalachh</th>\n      <td>303</td>\n      <td>0</td>\n      <td>100.0</td>\n      <td>91</td>\n      <td>[202, 195, 194, 192, 190, 188, 187, 186, 185, ...</td>\n      <td>int64</td>\n    </tr>\n    <tr>\n      <th>exng</th>\n      <td>303</td>\n      <td>0</td>\n      <td>100.0</td>\n      <td>2</td>\n      <td>[1, 0]</td>\n      <td>int64</td>\n    </tr>\n    <tr>\n      <th>oldpeak</th>\n      <td>303</td>\n      <td>0</td>\n      <td>100.0</td>\n      <td>40</td>\n      <td>[6.2, 5.6, 4.4, 4.2, 4.0, 3.8, 3.6, 3.5, 3.4, ...</td>\n      <td>float64</td>\n    </tr>\n    <tr>\n      <th>slp</th>\n      <td>303</td>\n      <td>0</td>\n      <td>100.0</td>\n      <td>3</td>\n      <td>[2, 1, 0]</td>\n      <td>int64</td>\n    </tr>\n    <tr>\n      <th>caa</th>\n      <td>303</td>\n      <td>0</td>\n      <td>100.0</td>\n      <td>5</td>\n      <td>[4, 3, 2, 1, 0]</td>\n      <td>int64</td>\n    </tr>\n    <tr>\n      <th>thall</th>\n      <td>303</td>\n      <td>0</td>\n      <td>100.0</td>\n      <td>4</td>\n      <td>[3, 2, 1, 0]</td>\n      <td>int64</td>\n    </tr>\n    <tr>\n      <th>output</th>\n      <td>303</td>\n      <td>0</td>\n      <td>100.0</td>\n      <td>2</td>\n      <td>[1, 0]</td>\n      <td>int64</td>\n    </tr>\n  </tbody>\n</table>\n</div>"
     },
     "execution_count": 7,
     "metadata": {},
     "output_type": "execute_result"
    }
   ],
   "source": [
    "create_general_analysis(pd.read_csv('heart.csv'))"
   ],
   "metadata": {
    "collapsed": false,
    "pycharm": {
     "name": "#%%\n"
    }
   }
  },
  {
   "cell_type": "code",
   "execution_count": 5,
   "outputs": [
    {
     "data": {
      "text/plain": "      98.6\n0     98.6\n1     98.6\n2     98.6\n3     98.1\n4     97.5\n...    ...\n3580  98.6\n3581  98.6\n3582  98.6\n3583  98.6\n3584  98.6\n\n[3585 rows x 1 columns]",
      "text/html": "<div>\n<style scoped>\n    .dataframe tbody tr th:only-of-type {\n        vertical-align: middle;\n    }\n\n    .dataframe tbody tr th {\n        vertical-align: top;\n    }\n\n    .dataframe thead th {\n        text-align: right;\n    }\n</style>\n<table border=\"1\" class=\"dataframe\">\n  <thead>\n    <tr style=\"text-align: right;\">\n      <th></th>\n      <th>98.6</th>\n    </tr>\n  </thead>\n  <tbody>\n    <tr>\n      <th>0</th>\n      <td>98.6</td>\n    </tr>\n    <tr>\n      <th>1</th>\n      <td>98.6</td>\n    </tr>\n    <tr>\n      <th>2</th>\n      <td>98.6</td>\n    </tr>\n    <tr>\n      <th>3</th>\n      <td>98.1</td>\n    </tr>\n    <tr>\n      <th>4</th>\n      <td>97.5</td>\n    </tr>\n    <tr>\n      <th>...</th>\n      <td>...</td>\n    </tr>\n    <tr>\n      <th>3580</th>\n      <td>98.6</td>\n    </tr>\n    <tr>\n      <th>3581</th>\n      <td>98.6</td>\n    </tr>\n    <tr>\n      <th>3582</th>\n      <td>98.6</td>\n    </tr>\n    <tr>\n      <th>3583</th>\n      <td>98.6</td>\n    </tr>\n    <tr>\n      <th>3584</th>\n      <td>98.6</td>\n    </tr>\n  </tbody>\n</table>\n<p>3585 rows × 1 columns</p>\n</div>"
     },
     "execution_count": 5,
     "metadata": {},
     "output_type": "execute_result"
    }
   ],
   "source": [
    "pd.read_csv('o2Saturation.csv')"
   ],
   "metadata": {
    "collapsed": false,
    "pycharm": {
     "name": "#%%\n"
    }
   }
  },
  {
   "cell_type": "code",
   "execution_count": 6,
   "outputs": [
    {
     "name": "stdout",
     "output_type": "stream",
     "text": [
      "General data analysis:\n",
      "\n",
      "Shape of the table:      (3585, 1)\n",
      "Duplicates in the table: 3568, (99.53%)\n"
     ]
    },
    {
     "data": {
      "text/plain": "      values_num  nan_values_num  occupancy  unique_values_num  \\\n98.6        3585               0      100.0                 17   \n\n                                          unique_values    dtype  \n98.6  [99.6, 99.3, 98.9, 98.8, 98.6, 98.3, 98.2, 98....  float64  ",
      "text/html": "<div>\n<style scoped>\n    .dataframe tbody tr th:only-of-type {\n        vertical-align: middle;\n    }\n\n    .dataframe tbody tr th {\n        vertical-align: top;\n    }\n\n    .dataframe thead th {\n        text-align: right;\n    }\n</style>\n<table border=\"1\" class=\"dataframe\">\n  <thead>\n    <tr style=\"text-align: right;\">\n      <th></th>\n      <th>values_num</th>\n      <th>nan_values_num</th>\n      <th>occupancy</th>\n      <th>unique_values_num</th>\n      <th>unique_values</th>\n      <th>dtype</th>\n    </tr>\n  </thead>\n  <tbody>\n    <tr>\n      <th>98.6</th>\n      <td>3585</td>\n      <td>0</td>\n      <td>100.0</td>\n      <td>17</td>\n      <td>[99.6, 99.3, 98.9, 98.8, 98.6, 98.3, 98.2, 98....</td>\n      <td>float64</td>\n    </tr>\n  </tbody>\n</table>\n</div>"
     },
     "execution_count": 6,
     "metadata": {},
     "output_type": "execute_result"
    }
   ],
   "source": [
    "create_general_analysis(pd.read_csv('o2Saturation.csv'))"
   ],
   "metadata": {
    "collapsed": false,
    "pycharm": {
     "name": "#%%\n"
    }
   }
  },
  {
   "cell_type": "markdown",
   "source": [
    "# 2"
   ],
   "metadata": {
    "collapsed": false,
    "pycharm": {
     "name": "#%% md\n"
    }
   }
  },
  {
   "cell_type": "code",
   "execution_count": 8,
   "outputs": [
    {
     "data": {
      "text/plain": "     Age Sex ChestPainType  RestingBP  Cholesterol  FastingBS RestingECG  \\\n0     40   M           ATA        140          289          0     Normal   \n1     49   F           NAP        160          180          0     Normal   \n2     37   M           ATA        130          283          0         ST   \n3     48   F           ASY        138          214          0     Normal   \n4     54   M           NAP        150          195          0     Normal   \n..   ...  ..           ...        ...          ...        ...        ...   \n913   45   M            TA        110          264          0     Normal   \n914   68   M           ASY        144          193          1     Normal   \n915   57   M           ASY        130          131          0     Normal   \n916   57   F           ATA        130          236          0        LVH   \n917   38   M           NAP        138          175          0     Normal   \n\n     MaxHR ExerciseAngina  Oldpeak ST_Slope  HeartDisease  \n0      172              N      0.0       Up             0  \n1      156              N      1.0     Flat             1  \n2       98              N      0.0       Up             0  \n3      108              Y      1.5     Flat             1  \n4      122              N      0.0       Up             0  \n..     ...            ...      ...      ...           ...  \n913    132              N      1.2     Flat             1  \n914    141              N      3.4     Flat             1  \n915    115              Y      1.2     Flat             1  \n916    174              N      0.0     Flat             1  \n917    173              N      0.0       Up             0  \n\n[918 rows x 12 columns]",
      "text/html": "<div>\n<style scoped>\n    .dataframe tbody tr th:only-of-type {\n        vertical-align: middle;\n    }\n\n    .dataframe tbody tr th {\n        vertical-align: top;\n    }\n\n    .dataframe thead th {\n        text-align: right;\n    }\n</style>\n<table border=\"1\" class=\"dataframe\">\n  <thead>\n    <tr style=\"text-align: right;\">\n      <th></th>\n      <th>Age</th>\n      <th>Sex</th>\n      <th>ChestPainType</th>\n      <th>RestingBP</th>\n      <th>Cholesterol</th>\n      <th>FastingBS</th>\n      <th>RestingECG</th>\n      <th>MaxHR</th>\n      <th>ExerciseAngina</th>\n      <th>Oldpeak</th>\n      <th>ST_Slope</th>\n      <th>HeartDisease</th>\n    </tr>\n  </thead>\n  <tbody>\n    <tr>\n      <th>0</th>\n      <td>40</td>\n      <td>M</td>\n      <td>ATA</td>\n      <td>140</td>\n      <td>289</td>\n      <td>0</td>\n      <td>Normal</td>\n      <td>172</td>\n      <td>N</td>\n      <td>0.0</td>\n      <td>Up</td>\n      <td>0</td>\n    </tr>\n    <tr>\n      <th>1</th>\n      <td>49</td>\n      <td>F</td>\n      <td>NAP</td>\n      <td>160</td>\n      <td>180</td>\n      <td>0</td>\n      <td>Normal</td>\n      <td>156</td>\n      <td>N</td>\n      <td>1.0</td>\n      <td>Flat</td>\n      <td>1</td>\n    </tr>\n    <tr>\n      <th>2</th>\n      <td>37</td>\n      <td>M</td>\n      <td>ATA</td>\n      <td>130</td>\n      <td>283</td>\n      <td>0</td>\n      <td>ST</td>\n      <td>98</td>\n      <td>N</td>\n      <td>0.0</td>\n      <td>Up</td>\n      <td>0</td>\n    </tr>\n    <tr>\n      <th>3</th>\n      <td>48</td>\n      <td>F</td>\n      <td>ASY</td>\n      <td>138</td>\n      <td>214</td>\n      <td>0</td>\n      <td>Normal</td>\n      <td>108</td>\n      <td>Y</td>\n      <td>1.5</td>\n      <td>Flat</td>\n      <td>1</td>\n    </tr>\n    <tr>\n      <th>4</th>\n      <td>54</td>\n      <td>M</td>\n      <td>NAP</td>\n      <td>150</td>\n      <td>195</td>\n      <td>0</td>\n      <td>Normal</td>\n      <td>122</td>\n      <td>N</td>\n      <td>0.0</td>\n      <td>Up</td>\n      <td>0</td>\n    </tr>\n    <tr>\n      <th>...</th>\n      <td>...</td>\n      <td>...</td>\n      <td>...</td>\n      <td>...</td>\n      <td>...</td>\n      <td>...</td>\n      <td>...</td>\n      <td>...</td>\n      <td>...</td>\n      <td>...</td>\n      <td>...</td>\n      <td>...</td>\n    </tr>\n    <tr>\n      <th>913</th>\n      <td>45</td>\n      <td>M</td>\n      <td>TA</td>\n      <td>110</td>\n      <td>264</td>\n      <td>0</td>\n      <td>Normal</td>\n      <td>132</td>\n      <td>N</td>\n      <td>1.2</td>\n      <td>Flat</td>\n      <td>1</td>\n    </tr>\n    <tr>\n      <th>914</th>\n      <td>68</td>\n      <td>M</td>\n      <td>ASY</td>\n      <td>144</td>\n      <td>193</td>\n      <td>1</td>\n      <td>Normal</td>\n      <td>141</td>\n      <td>N</td>\n      <td>3.4</td>\n      <td>Flat</td>\n      <td>1</td>\n    </tr>\n    <tr>\n      <th>915</th>\n      <td>57</td>\n      <td>M</td>\n      <td>ASY</td>\n      <td>130</td>\n      <td>131</td>\n      <td>0</td>\n      <td>Normal</td>\n      <td>115</td>\n      <td>Y</td>\n      <td>1.2</td>\n      <td>Flat</td>\n      <td>1</td>\n    </tr>\n    <tr>\n      <th>916</th>\n      <td>57</td>\n      <td>F</td>\n      <td>ATA</td>\n      <td>130</td>\n      <td>236</td>\n      <td>0</td>\n      <td>LVH</td>\n      <td>174</td>\n      <td>N</td>\n      <td>0.0</td>\n      <td>Flat</td>\n      <td>1</td>\n    </tr>\n    <tr>\n      <th>917</th>\n      <td>38</td>\n      <td>M</td>\n      <td>NAP</td>\n      <td>138</td>\n      <td>175</td>\n      <td>0</td>\n      <td>Normal</td>\n      <td>173</td>\n      <td>N</td>\n      <td>0.0</td>\n      <td>Up</td>\n      <td>0</td>\n    </tr>\n  </tbody>\n</table>\n<p>918 rows × 12 columns</p>\n</div>"
     },
     "execution_count": 8,
     "metadata": {},
     "output_type": "execute_result"
    }
   ],
   "source": [
    "pd.read_csv('heart.csv')"
   ],
   "metadata": {
    "collapsed": false,
    "pycharm": {
     "name": "#%%\n"
    }
   }
  },
  {
   "cell_type": "code",
   "execution_count": 9,
   "outputs": [
    {
     "name": "stdout",
     "output_type": "stream",
     "text": [
      "General data analysis:\n",
      "\n",
      "Shape of the table:      (918, 12)\n",
      "Duplicates in the table: 0, (0.0%)\n"
     ]
    },
    {
     "data": {
      "text/plain": "                values_num  nan_values_num  occupancy  unique_values_num  \\\nAge                    918               0      100.0                 50   \nSex                    918               0      100.0                  2   \nChestPainType          918               0      100.0                  4   \nRestingBP              918               0      100.0                 67   \nCholesterol            918               0      100.0                222   \nFastingBS              918               0      100.0                  2   \nRestingECG             918               0      100.0                  3   \nMaxHR                  918               0      100.0                119   \nExerciseAngina         918               0      100.0                  2   \nOldpeak                918               0      100.0                 53   \nST_Slope               918               0      100.0                  3   \nHeartDisease           918               0      100.0                  2   \n\n                                                    unique_values    dtype  \nAge             [77, 76, 75, 74, 73, 72, 71, 70, 69, 68, 67, 6...    int64  \nSex                                                        [M, F]   object  \nChestPainType                                 [TA, NAP, ATA, ASY]   object  \nRestingBP       [200, 192, 190, 185, 180, 178, 174, 172, 170, ...    int64  \nCholesterol     [603, 564, 529, 518, 491, 468, 466, 458, 417, ...    int64  \nFastingBS                                                  [1, 0]    int64  \nRestingECG                                      [ST, Normal, LVH]   object  \nMaxHR           [202, 195, 194, 192, 190, 188, 187, 186, 185, ...    int64  \nExerciseAngina                                             [Y, N]   object  \nOldpeak         [6.2, 5.6, 5.0, 4.4, 4.2, 4.0, 3.8, 3.7, 3.6, ...  float64  \nST_Slope                                         [Up, Flat, Down]   object  \nHeartDisease                                               [1, 0]    int64  ",
      "text/html": "<div>\n<style scoped>\n    .dataframe tbody tr th:only-of-type {\n        vertical-align: middle;\n    }\n\n    .dataframe tbody tr th {\n        vertical-align: top;\n    }\n\n    .dataframe thead th {\n        text-align: right;\n    }\n</style>\n<table border=\"1\" class=\"dataframe\">\n  <thead>\n    <tr style=\"text-align: right;\">\n      <th></th>\n      <th>values_num</th>\n      <th>nan_values_num</th>\n      <th>occupancy</th>\n      <th>unique_values_num</th>\n      <th>unique_values</th>\n      <th>dtype</th>\n    </tr>\n  </thead>\n  <tbody>\n    <tr>\n      <th>Age</th>\n      <td>918</td>\n      <td>0</td>\n      <td>100.0</td>\n      <td>50</td>\n      <td>[77, 76, 75, 74, 73, 72, 71, 70, 69, 68, 67, 6...</td>\n      <td>int64</td>\n    </tr>\n    <tr>\n      <th>Sex</th>\n      <td>918</td>\n      <td>0</td>\n      <td>100.0</td>\n      <td>2</td>\n      <td>[M, F]</td>\n      <td>object</td>\n    </tr>\n    <tr>\n      <th>ChestPainType</th>\n      <td>918</td>\n      <td>0</td>\n      <td>100.0</td>\n      <td>4</td>\n      <td>[TA, NAP, ATA, ASY]</td>\n      <td>object</td>\n    </tr>\n    <tr>\n      <th>RestingBP</th>\n      <td>918</td>\n      <td>0</td>\n      <td>100.0</td>\n      <td>67</td>\n      <td>[200, 192, 190, 185, 180, 178, 174, 172, 170, ...</td>\n      <td>int64</td>\n    </tr>\n    <tr>\n      <th>Cholesterol</th>\n      <td>918</td>\n      <td>0</td>\n      <td>100.0</td>\n      <td>222</td>\n      <td>[603, 564, 529, 518, 491, 468, 466, 458, 417, ...</td>\n      <td>int64</td>\n    </tr>\n    <tr>\n      <th>FastingBS</th>\n      <td>918</td>\n      <td>0</td>\n      <td>100.0</td>\n      <td>2</td>\n      <td>[1, 0]</td>\n      <td>int64</td>\n    </tr>\n    <tr>\n      <th>RestingECG</th>\n      <td>918</td>\n      <td>0</td>\n      <td>100.0</td>\n      <td>3</td>\n      <td>[ST, Normal, LVH]</td>\n      <td>object</td>\n    </tr>\n    <tr>\n      <th>MaxHR</th>\n      <td>918</td>\n      <td>0</td>\n      <td>100.0</td>\n      <td>119</td>\n      <td>[202, 195, 194, 192, 190, 188, 187, 186, 185, ...</td>\n      <td>int64</td>\n    </tr>\n    <tr>\n      <th>ExerciseAngina</th>\n      <td>918</td>\n      <td>0</td>\n      <td>100.0</td>\n      <td>2</td>\n      <td>[Y, N]</td>\n      <td>object</td>\n    </tr>\n    <tr>\n      <th>Oldpeak</th>\n      <td>918</td>\n      <td>0</td>\n      <td>100.0</td>\n      <td>53</td>\n      <td>[6.2, 5.6, 5.0, 4.4, 4.2, 4.0, 3.8, 3.7, 3.6, ...</td>\n      <td>float64</td>\n    </tr>\n    <tr>\n      <th>ST_Slope</th>\n      <td>918</td>\n      <td>0</td>\n      <td>100.0</td>\n      <td>3</td>\n      <td>[Up, Flat, Down]</td>\n      <td>object</td>\n    </tr>\n    <tr>\n      <th>HeartDisease</th>\n      <td>918</td>\n      <td>0</td>\n      <td>100.0</td>\n      <td>2</td>\n      <td>[1, 0]</td>\n      <td>int64</td>\n    </tr>\n  </tbody>\n</table>\n</div>"
     },
     "execution_count": 9,
     "metadata": {},
     "output_type": "execute_result"
    }
   ],
   "source": [
    "create_general_analysis(pd.read_csv('heart.csv'))"
   ],
   "metadata": {
    "collapsed": false,
    "pycharm": {
     "name": "#%%\n"
    }
   }
  },
  {
   "cell_type": "code",
   "execution_count": 34,
   "outputs": [
    {
     "data": {
      "text/plain": "array([[<AxesSubplot:title={'center':'Age'}>,\n        <AxesSubplot:title={'center':'HeartDisease'}>]], dtype=object)"
     },
     "execution_count": 34,
     "metadata": {},
     "output_type": "execute_result"
    },
    {
     "data": {
      "text/plain": "<Figure size 432x288 with 2 Axes>",
      "image/png": "[encoded data removed]"
     },
     "metadata": {},
     "output_type": "display_data"
    }
   ],
   "source": [
    "pd.read_csv('heart.csv')[['Age', 'HeartDisease']].hist()"
   ],
   "metadata": {
    "collapsed": false,
    "pycharm": {
     "name": "#%%\n"
    }
   }
  },
  {
   "cell_type": "code",
   "execution_count": 40,
   "outputs": [
    {
     "data": {
      "text/plain": "<AxesSubplot:>"
     },
     "execution_count": 40,
     "metadata": {},
     "output_type": "execute_result"
    },
    {
     "data": {
      "text/plain": "<Figure size 432x288 with 1 Axes>",
      "image/png": "[encoded data removed]"
     },
     "metadata": {},
     "output_type": "display_data"
    }
   ],
   "source": [
    "pd.read_csv('heart.csv')['Sex'].value_counts().plot(kind='bar')"
   ],
   "metadata": {
    "collapsed": false,
    "pycharm": {
     "name": "#%%\n"
    }
   }
  },
  {
   "cell_type": "markdown",
   "source": [
    "# 3"
   ],
   "metadata": {
    "collapsed": false,
    "pycharm": {
     "name": "#%% md\n"
    }
   }
  },
  {
   "cell_type": "code",
   "execution_count": 10,
   "outputs": [
    {
     "data": {
      "text/plain": "      age  anaemia  creatinine_phosphokinase  diabetes  ejection_fraction  \\\n0    75.0        0                       582         0                 20   \n1    55.0        0                      7861         0                 38   \n2    65.0        0                       146         0                 20   \n3    50.0        1                       111         0                 20   \n4    65.0        1                       160         1                 20   \n..    ...      ...                       ...       ...                ...   \n294  62.0        0                        61         1                 38   \n295  55.0        0                      1820         0                 38   \n296  45.0        0                      2060         1                 60   \n297  45.0        0                      2413         0                 38   \n298  50.0        0                       196         0                 45   \n\n     high_blood_pressure  platelets  serum_creatinine  serum_sodium  sex  \\\n0                      1  265000.00               1.9           130    1   \n1                      0  263358.03               1.1           136    1   \n2                      0  162000.00               1.3           129    1   \n3                      0  210000.00               1.9           137    1   \n4                      0  327000.00               2.7           116    0   \n..                   ...        ...               ...           ...  ...   \n294                    1  155000.00               1.1           143    1   \n295                    0  270000.00               1.2           139    0   \n296                    0  742000.00               0.8           138    0   \n297                    0  140000.00               1.4           140    1   \n298                    0  395000.00               1.6           136    1   \n\n     smoking  time  DEATH_EVENT  \n0          0     4            1  \n1          0     6            1  \n2          1     7            1  \n3          0     7            1  \n4          0     8            1  \n..       ...   ...          ...  \n294        1   270            0  \n295        0   271            0  \n296        0   278            0  \n297        1   280            0  \n298        1   285            0  \n\n[299 rows x 13 columns]",
      "text/html": "<div>\n<style scoped>\n    .dataframe tbody tr th:only-of-type {\n        vertical-align: middle;\n    }\n\n    .dataframe tbody tr th {\n        vertical-align: top;\n    }\n\n    .dataframe thead th {\n        text-align: right;\n    }\n</style>\n<table border=\"1\" class=\"dataframe\">\n  <thead>\n    <tr style=\"text-align: right;\">\n      <th></th>\n      <th>age</th>\n      <th>anaemia</th>\n      <th>creatinine_phosphokinase</th>\n      <th>diabetes</th>\n      <th>ejection_fraction</th>\n      <th>high_blood_pressure</th>\n      <th>platelets</th>\n      <th>serum_creatinine</th>\n      <th>serum_sodium</th>\n      <th>sex</th>\n      <th>smoking</th>\n      <th>time</th>\n      <th>DEATH_EVENT</th>\n    </tr>\n  </thead>\n  <tbody>\n    <tr>\n      <th>0</th>\n      <td>75.0</td>\n      <td>0</td>\n      <td>582</td>\n      <td>0</td>\n      <td>20</td>\n      <td>1</td>\n      <td>265000.00</td>\n      <td>1.9</td>\n      <td>130</td>\n      <td>1</td>\n      <td>0</td>\n      <td>4</td>\n      <td>1</td>\n    </tr>\n    <tr>\n      <th>1</th>\n      <td>55.0</td>\n      <td>0</td>\n      <td>7861</td>\n      <td>0</td>\n      <td>38</td>\n      <td>0</td>\n      <td>263358.03</td>\n      <td>1.1</td>\n      <td>136</td>\n      <td>1</td>\n      <td>0</td>\n      <td>6</td>\n      <td>1</td>\n    </tr>\n    <tr>\n      <th>2</th>\n      <td>65.0</td>\n      <td>0</td>\n      <td>146</td>\n      <td>0</td>\n      <td>20</td>\n      <td>0</td>\n      <td>162000.00</td>\n      <td>1.3</td>\n      <td>129</td>\n      <td>1</td>\n      <td>1</td>\n      <td>7</td>\n      <td>1</td>\n    </tr>\n    <tr>\n      <th>3</th>\n      <td>50.0</td>\n      <td>1</td>\n      <td>111</td>\n      <td>0</td>\n      <td>20</td>\n      <td>0</td>\n      <td>210000.00</td>\n      <td>1.9</td>\n      <td>137</td>\n      <td>1</td>\n      <td>0</td>\n      <td>7</td>\n      <td>1</td>\n    </tr>\n    <tr>\n      <th>4</th>\n      <td>65.0</td>\n      <td>1</td>\n      <td>160</td>\n      <td>1</td>\n      <td>20</td>\n      <td>0</td>\n      <td>327000.00</td>\n      <td>2.7</td>\n      <td>116</td>\n      <td>0</td>\n      <td>0</td>\n      <td>8</td>\n      <td>1</td>\n    </tr>\n    <tr>\n      <th>...</th>\n      <td>...</td>\n      <td>...</td>\n      <td>...</td>\n      <td>...</td>\n      <td>...</td>\n      <td>...</td>\n      <td>...</td>\n      <td>...</td>\n      <td>...</td>\n      <td>...</td>\n      <td>...</td>\n      <td>...</td>\n      <td>...</td>\n    </tr>\n    <tr>\n      <th>294</th>\n      <td>62.0</td>\n      <td>0</td>\n      <td>61</td>\n      <td>1</td>\n      <td>38</td>\n      <td>1</td>\n      <td>155000.00</td>\n      <td>1.1</td>\n      <td>143</td>\n      <td>1</td>\n      <td>1</td>\n      <td>270</td>\n      <td>0</td>\n    </tr>\n    <tr>\n      <th>295</th>\n      <td>55.0</td>\n      <td>0</td>\n      <td>1820</td>\n      <td>0</td>\n      <td>38</td>\n      <td>0</td>\n      <td>270000.00</td>\n      <td>1.2</td>\n      <td>139</td>\n      <td>0</td>\n      <td>0</td>\n      <td>271</td>\n      <td>0</td>\n    </tr>\n    <tr>\n      <th>296</th>\n      <td>45.0</td>\n      <td>0</td>\n      <td>2060</td>\n      <td>1</td>\n      <td>60</td>\n      <td>0</td>\n      <td>742000.00</td>\n      <td>0.8</td>\n      <td>138</td>\n      <td>0</td>\n      <td>0</td>\n      <td>278</td>\n      <td>0</td>\n    </tr>\n    <tr>\n      <th>297</th>\n      <td>45.0</td>\n      <td>0</td>\n      <td>2413</td>\n      <td>0</td>\n      <td>38</td>\n      <td>0</td>\n      <td>140000.00</td>\n      <td>1.4</td>\n      <td>140</td>\n      <td>1</td>\n      <td>1</td>\n      <td>280</td>\n      <td>0</td>\n    </tr>\n    <tr>\n      <th>298</th>\n      <td>50.0</td>\n      <td>0</td>\n      <td>196</td>\n      <td>0</td>\n      <td>45</td>\n      <td>0</td>\n      <td>395000.00</td>\n      <td>1.6</td>\n      <td>136</td>\n      <td>1</td>\n      <td>1</td>\n      <td>285</td>\n      <td>0</td>\n    </tr>\n  </tbody>\n</table>\n<p>299 rows × 13 columns</p>\n</div>"
     },
     "execution_count": 10,
     "metadata": {},
     "output_type": "execute_result"
    }
   ],
   "source": [
    "pd.read_csv('heart_failure_clinical_records_dataset.csv')"
   ],
   "metadata": {
    "collapsed": false,
    "pycharm": {
     "name": "#%%\n"
    }
   }
  },
  {
   "cell_type": "code",
   "execution_count": 11,
   "outputs": [
    {
     "name": "stdout",
     "output_type": "stream",
     "text": [
      "General data analysis:\n",
      "\n",
      "Shape of the table:      (299, 13)\n",
      "Duplicates in the table: 0, (0.0%)\n"
     ]
    },
    {
     "data": {
      "text/plain": "                          values_num  nan_values_num  occupancy  \\\nage                              299               0      100.0   \nanaemia                          299               0      100.0   \ncreatinine_phosphokinase         299               0      100.0   \ndiabetes                         299               0      100.0   \nejection_fraction                299               0      100.0   \nhigh_blood_pressure              299               0      100.0   \nplatelets                        299               0      100.0   \nserum_creatinine                 299               0      100.0   \nserum_sodium                     299               0      100.0   \nsex                              299               0      100.0   \nsmoking                          299               0      100.0   \ntime                             299               0      100.0   \nDEATH_EVENT                      299               0      100.0   \n\n                          unique_values_num  \\\nage                                      47   \nanaemia                                   2   \ncreatinine_phosphokinase                208   \ndiabetes                                  2   \nejection_fraction                        17   \nhigh_blood_pressure                       2   \nplatelets                               176   \nserum_creatinine                         40   \nserum_sodium                             27   \nsex                                       2   \nsmoking                                   2   \ntime                                    148   \nDEATH_EVENT                               2   \n\n                                                              unique_values  \\\nage                       [95.0, 94.0, 90.0, 87.0, 86.0, 85.0, 82.0, 81....   \nanaemia                                                              [1, 0]   \ncreatinine_phosphokinase  [7861, 7702, 5882, 5209, 4540, 3966, 3964, 279...   \ndiabetes                                                             [1, 0]   \nejection_fraction         [80, 70, 65, 62, 60, 55, 50, 45, 40, 38, 35, 3...   \nhigh_blood_pressure                                                  [1, 0]   \nplatelets                 [850000.0, 742000.0, 621000.0, 543000.0, 53300...   \nserum_creatinine          [9.4, 9.0, 6.8, 6.1, 5.8, 5.0, 4.4, 4.0, 3.8, ...   \nserum_sodium              [148, 146, 145, 144, 143, 142, 141, 140, 139, ...   \nsex                                                                  [1, 0]   \nsmoking                                                              [1, 0]   \ntime                      [285, 280, 278, 271, 270, 258, 257, 256, 250, ...   \nDEATH_EVENT                                                          [1, 0]   \n\n                            dtype  \nage                       float64  \nanaemia                     int64  \ncreatinine_phosphokinase    int64  \ndiabetes                    int64  \nejection_fraction           int64  \nhigh_blood_pressure         int64  \nplatelets                 float64  \nserum_creatinine          float64  \nserum_sodium                int64  \nsex                         int64  \nsmoking                     int64  \ntime                        int64  \nDEATH_EVENT                 int64  ",
      "text/html": "<div>\n<style scoped>\n    .dataframe tbody tr th:only-of-type {\n        vertical-align: middle;\n    }\n\n    .dataframe tbody tr th {\n        vertical-align: top;\n    }\n\n    .dataframe thead th {\n        text-align: right;\n    }\n</style>\n<table border=\"1\" class=\"dataframe\">\n  <thead>\n    <tr style=\"text-align: right;\">\n      <th></th>\n      <th>values_num</th>\n      <th>nan_values_num</th>\n      <th>occupancy</th>\n      <th>unique_values_num</th>\n      <th>unique_values</th>\n      <th>dtype</th>\n    </tr>\n  </thead>\n  <tbody>\n    <tr>\n      <th>age</th>\n      <td>299</td>\n      <td>0</td>\n      <td>100.0</td>\n      <td>47</td>\n      <td>[95.0, 94.0, 90.0, 87.0, 86.0, 85.0, 82.0, 81....</td>\n      <td>float64</td>\n    </tr>\n    <tr>\n      <th>anaemia</th>\n      <td>299</td>\n      <td>0</td>\n      <td>100.0</td>\n      <td>2</td>\n      <td>[1, 0]</td>\n      <td>int64</td>\n    </tr>\n    <tr>\n      <th>creatinine_phosphokinase</th>\n      <td>299</td>\n      <td>0</td>\n      <td>100.0</td>\n      <td>208</td>\n      <td>[7861, 7702, 5882, 5209, 4540, 3966, 3964, 279...</td>\n      <td>int64</td>\n    </tr>\n    <tr>\n      <th>diabetes</th>\n      <td>299</td>\n      <td>0</td>\n      <td>100.0</td>\n      <td>2</td>\n      <td>[1, 0]</td>\n      <td>int64</td>\n    </tr>\n    <tr>\n      <th>ejection_fraction</th>\n      <td>299</td>\n      <td>0</td>\n      <td>100.0</td>\n      <td>17</td>\n      <td>[80, 70, 65, 62, 60, 55, 50, 45, 40, 38, 35, 3...</td>\n      <td>int64</td>\n    </tr>\n    <tr>\n      <th>high_blood_pressure</th>\n      <td>299</td>\n      <td>0</td>\n      <td>100.0</td>\n      <td>2</td>\n      <td>[1, 0]</td>\n      <td>int64</td>\n    </tr>\n    <tr>\n      <th>platelets</th>\n      <td>299</td>\n      <td>0</td>\n      <td>100.0</td>\n      <td>176</td>\n      <td>[850000.0, 742000.0, 621000.0, 543000.0, 53300...</td>\n      <td>float64</td>\n    </tr>\n    <tr>\n      <th>serum_creatinine</th>\n      <td>299</td>\n      <td>0</td>\n      <td>100.0</td>\n      <td>40</td>\n      <td>[9.4, 9.0, 6.8, 6.1, 5.8, 5.0, 4.4, 4.0, 3.8, ...</td>\n      <td>float64</td>\n    </tr>\n    <tr>\n      <th>serum_sodium</th>\n      <td>299</td>\n      <td>0</td>\n      <td>100.0</td>\n      <td>27</td>\n      <td>[148, 146, 145, 144, 143, 142, 141, 140, 139, ...</td>\n      <td>int64</td>\n    </tr>\n    <tr>\n      <th>sex</th>\n      <td>299</td>\n      <td>0</td>\n      <td>100.0</td>\n      <td>2</td>\n      <td>[1, 0]</td>\n      <td>int64</td>\n    </tr>\n    <tr>\n      <th>smoking</th>\n      <td>299</td>\n      <td>0</td>\n      <td>100.0</td>\n      <td>2</td>\n      <td>[1, 0]</td>\n      <td>int64</td>\n    </tr>\n    <tr>\n      <th>time</th>\n      <td>299</td>\n      <td>0</td>\n      <td>100.0</td>\n      <td>148</td>\n      <td>[285, 280, 278, 271, 270, 258, 257, 256, 250, ...</td>\n      <td>int64</td>\n    </tr>\n    <tr>\n      <th>DEATH_EVENT</th>\n      <td>299</td>\n      <td>0</td>\n      <td>100.0</td>\n      <td>2</td>\n      <td>[1, 0]</td>\n      <td>int64</td>\n    </tr>\n  </tbody>\n</table>\n</div>"
     },
     "execution_count": 11,
     "metadata": {},
     "output_type": "execute_result"
    }
   ],
   "source": [
    "create_general_analysis(pd.read_csv('heart_failure_clinical_records_dataset.csv'))"
   ],
   "metadata": {
    "collapsed": false,
    "pycharm": {
     "name": "#%%\n"
    }
   }
  },
  {
   "cell_type": "markdown",
   "source": [
    "# 4"
   ],
   "metadata": {
    "collapsed": false,
    "pycharm": {
     "name": "#%% md\n"
    }
   }
  },
  {
   "cell_type": "code",
   "execution_count": 12,
   "outputs": [
    {
     "data": {
      "text/plain": "     Age  Sex  Chest pain type   BP  Cholesterol  FBS over 120  EKG results  \\\n0     70    1                4  130          322             0            2   \n1     67    0                3  115          564             0            2   \n2     57    1                2  124          261             0            0   \n3     64    1                4  128          263             0            0   \n4     74    0                2  120          269             0            2   \n..   ...  ...              ...  ...          ...           ...          ...   \n265   52    1                3  172          199             1            0   \n266   44    1                2  120          263             0            0   \n267   56    0                2  140          294             0            2   \n268   57    1                4  140          192             0            0   \n269   67    1                4  160          286             0            2   \n\n     Max HR  Exercise angina  ST depression  Slope of ST  \\\n0       109                0            2.4            2   \n1       160                0            1.6            2   \n2       141                0            0.3            1   \n3       105                1            0.2            2   \n4       121                1            0.2            1   \n..      ...              ...            ...          ...   \n265     162                0            0.5            1   \n266     173                0            0.0            1   \n267     153                0            1.3            2   \n268     148                0            0.4            2   \n269     108                1            1.5            2   \n\n     Number of vessels fluro  Thallium Heart Disease  \n0                          3         3      Presence  \n1                          0         7       Absence  \n2                          0         7      Presence  \n3                          1         7       Absence  \n4                          1         3       Absence  \n..                       ...       ...           ...  \n265                        0         7       Absence  \n266                        0         7       Absence  \n267                        0         3       Absence  \n268                        0         6       Absence  \n269                        3         3      Presence  \n\n[270 rows x 14 columns]",
      "text/html": "<div>\n<style scoped>\n    .dataframe tbody tr th:only-of-type {\n        vertical-align: middle;\n    }\n\n    .dataframe tbody tr th {\n        vertical-align: top;\n    }\n\n    .dataframe thead th {\n        text-align: right;\n    }\n</style>\n<table border=\"1\" class=\"dataframe\">\n  <thead>\n    <tr style=\"text-align: right;\">\n      <th></th>\n      <th>Age</th>\n      <th>Sex</th>\n      <th>Chest pain type</th>\n      <th>BP</th>\n      <th>Cholesterol</th>\n      <th>FBS over 120</th>\n      <th>EKG results</th>\n      <th>Max HR</th>\n      <th>Exercise angina</th>\n      <th>ST depression</th>\n      <th>Slope of ST</th>\n      <th>Number of vessels fluro</th>\n      <th>Thallium</th>\n      <th>Heart Disease</th>\n    </tr>\n  </thead>\n  <tbody>\n    <tr>\n      <th>0</th>\n      <td>70</td>\n      <td>1</td>\n      <td>4</td>\n      <td>130</td>\n      <td>322</td>\n      <td>0</td>\n      <td>2</td>\n      <td>109</td>\n      <td>0</td>\n      <td>2.4</td>\n      <td>2</td>\n      <td>3</td>\n      <td>3</td>\n      <td>Presence</td>\n    </tr>\n    <tr>\n      <th>1</th>\n      <td>67</td>\n      <td>0</td>\n      <td>3</td>\n      <td>115</td>\n      <td>564</td>\n      <td>0</td>\n      <td>2</td>\n      <td>160</td>\n      <td>0</td>\n      <td>1.6</td>\n      <td>2</td>\n      <td>0</td>\n      <td>7</td>\n      <td>Absence</td>\n    </tr>\n    <tr>\n      <th>2</th>\n      <td>57</td>\n      <td>1</td>\n      <td>2</td>\n      <td>124</td>\n      <td>261</td>\n      <td>0</td>\n      <td>0</td>\n      <td>141</td>\n      <td>0</td>\n      <td>0.3</td>\n      <td>1</td>\n      <td>0</td>\n      <td>7</td>\n      <td>Presence</td>\n    </tr>\n    <tr>\n      <th>3</th>\n      <td>64</td>\n      <td>1</td>\n      <td>4</td>\n      <td>128</td>\n      <td>263</td>\n      <td>0</td>\n      <td>0</td>\n      <td>105</td>\n      <td>1</td>\n      <td>0.2</td>\n      <td>2</td>\n      <td>1</td>\n      <td>7</td>\n      <td>Absence</td>\n    </tr>\n    <tr>\n      <th>4</th>\n      <td>74</td>\n      <td>0</td>\n      <td>2</td>\n      <td>120</td>\n      <td>269</td>\n      <td>0</td>\n      <td>2</td>\n      <td>121</td>\n      <td>1</td>\n      <td>0.2</td>\n      <td>1</td>\n      <td>1</td>\n      <td>3</td>\n      <td>Absence</td>\n    </tr>\n    <tr>\n      <th>...</th>\n      <td>...</td>\n      <td>...</td>\n      <td>...</td>\n      <td>...</td>\n      <td>...</td>\n      <td>...</td>\n      <td>...</td>\n      <td>...</td>\n      <td>...</td>\n      <td>...</td>\n      <td>...</td>\n      <td>...</td>\n      <td>...</td>\n      <td>...</td>\n    </tr>\n    <tr>\n      <th>265</th>\n      <td>52</td>\n      <td>1</td>\n      <td>3</td>\n      <td>172</td>\n      <td>199</td>\n      <td>1</td>\n      <td>0</td>\n      <td>162</td>\n      <td>0</td>\n      <td>0.5</td>\n      <td>1</td>\n      <td>0</td>\n      <td>7</td>\n      <td>Absence</td>\n    </tr>\n    <tr>\n      <th>266</th>\n      <td>44</td>\n      <td>1</td>\n      <td>2</td>\n      <td>120</td>\n      <td>263</td>\n      <td>0</td>\n      <td>0</td>\n      <td>173</td>\n      <td>0</td>\n      <td>0.0</td>\n      <td>1</td>\n      <td>0</td>\n      <td>7</td>\n      <td>Absence</td>\n    </tr>\n    <tr>\n      <th>267</th>\n      <td>56</td>\n      <td>0</td>\n      <td>2</td>\n      <td>140</td>\n      <td>294</td>\n      <td>0</td>\n      <td>2</td>\n      <td>153</td>\n      <td>0</td>\n      <td>1.3</td>\n      <td>2</td>\n      <td>0</td>\n      <td>3</td>\n      <td>Absence</td>\n    </tr>\n    <tr>\n      <th>268</th>\n      <td>57</td>\n      <td>1</td>\n      <td>4</td>\n      <td>140</td>\n      <td>192</td>\n      <td>0</td>\n      <td>0</td>\n      <td>148</td>\n      <td>0</td>\n      <td>0.4</td>\n      <td>2</td>\n      <td>0</td>\n      <td>6</td>\n      <td>Absence</td>\n    </tr>\n    <tr>\n      <th>269</th>\n      <td>67</td>\n      <td>1</td>\n      <td>4</td>\n      <td>160</td>\n      <td>286</td>\n      <td>0</td>\n      <td>2</td>\n      <td>108</td>\n      <td>1</td>\n      <td>1.5</td>\n      <td>2</td>\n      <td>3</td>\n      <td>3</td>\n      <td>Presence</td>\n    </tr>\n  </tbody>\n</table>\n<p>270 rows × 14 columns</p>\n</div>"
     },
     "execution_count": 12,
     "metadata": {},
     "output_type": "execute_result"
    }
   ],
   "source": [
    "pd.read_csv('Heart_Disease_Prediction.csv')"
   ],
   "metadata": {
    "collapsed": false,
    "pycharm": {
     "name": "#%%\n"
    }
   }
  },
  {
   "cell_type": "code",
   "execution_count": 14,
   "outputs": [
    {
     "name": "stdout",
     "output_type": "stream",
     "text": [
      "General data analysis:\n",
      "\n",
      "Shape of the table:      (270, 14)\n",
      "Duplicates in the table: 0, (0.0%)\n"
     ]
    },
    {
     "data": {
      "text/plain": "                         values_num  nan_values_num  occupancy  \\\nAge                             270               0      100.0   \nSex                             270               0      100.0   \nChest pain type                 270               0      100.0   \nBP                              270               0      100.0   \nCholesterol                     270               0      100.0   \nFBS over 120                    270               0      100.0   \nEKG results                     270               0      100.0   \nMax HR                          270               0      100.0   \nExercise angina                 270               0      100.0   \nST depression                   270               0      100.0   \nSlope of ST                     270               0      100.0   \nNumber of vessels fluro         270               0      100.0   \nThallium                        270               0      100.0   \nHeart Disease                   270               0      100.0   \n\n                         unique_values_num  \\\nAge                                     41   \nSex                                      2   \nChest pain type                          4   \nBP                                      47   \nCholesterol                            144   \nFBS over 120                             2   \nEKG results                              3   \nMax HR                                  90   \nExercise angina                          2   \nST depression                           39   \nSlope of ST                              3   \nNumber of vessels fluro                  4   \nThallium                                 3   \nHeart Disease                            2   \n\n                                                             unique_values  \\\nAge                      [77, 76, 74, 71, 70, 69, 68, 67, 66, 65, 64, 6...   \nSex                                                                 [1, 0]   \nChest pain type                                               [4, 3, 2, 1]   \nBP                       [200, 192, 180, 178, 174, 172, 170, 165, 160, ...   \nCholesterol              [564, 417, 409, 407, 394, 360, 354, 353, 341, ...   \nFBS over 120                                                        [1, 0]   \nEKG results                                                      [2, 1, 0]   \nMax HR                   [202, 195, 194, 192, 190, 188, 187, 186, 185, ...   \nExercise angina                                                     [1, 0]   \nST depression            [6.2, 5.6, 4.2, 4.0, 3.8, 3.6, 3.5, 3.4, 3.2, ...   \nSlope of ST                                                      [3, 2, 1]   \nNumber of vessels fluro                                       [3, 2, 1, 0]   \nThallium                                                         [7, 6, 3]   \nHeart Disease                                          [Presence, Absence]   \n\n                           dtype  \nAge                        int64  \nSex                        int64  \nChest pain type            int64  \nBP                         int64  \nCholesterol                int64  \nFBS over 120               int64  \nEKG results                int64  \nMax HR                     int64  \nExercise angina            int64  \nST depression            float64  \nSlope of ST                int64  \nNumber of vessels fluro    int64  \nThallium                   int64  \nHeart Disease             object  ",
      "text/html": "<div>\n<style scoped>\n    .dataframe tbody tr th:only-of-type {\n        vertical-align: middle;\n    }\n\n    .dataframe tbody tr th {\n        vertical-align: top;\n    }\n\n    .dataframe thead th {\n        text-align: right;\n    }\n</style>\n<table border=\"1\" class=\"dataframe\">\n  <thead>\n    <tr style=\"text-align: right;\">\n      <th></th>\n      <th>values_num</th>\n      <th>nan_values_num</th>\n      <th>occupancy</th>\n      <th>unique_values_num</th>\n      <th>unique_values</th>\n      <th>dtype</th>\n    </tr>\n  </thead>\n  <tbody>\n    <tr>\n      <th>Age</th>\n      <td>270</td>\n      <td>0</td>\n      <td>100.0</td>\n      <td>41</td>\n      <td>[77, 76, 74, 71, 70, 69, 68, 67, 66, 65, 64, 6...</td>\n      <td>int64</td>\n    </tr>\n    <tr>\n      <th>Sex</th>\n      <td>270</td>\n      <td>0</td>\n      <td>100.0</td>\n      <td>2</td>\n      <td>[1, 0]</td>\n      <td>int64</td>\n    </tr>\n    <tr>\n      <th>Chest pain type</th>\n      <td>270</td>\n      <td>0</td>\n      <td>100.0</td>\n      <td>4</td>\n      <td>[4, 3, 2, 1]</td>\n      <td>int64</td>\n    </tr>\n    <tr>\n      <th>BP</th>\n      <td>270</td>\n      <td>0</td>\n      <td>100.0</td>\n      <td>47</td>\n      <td>[200, 192, 180, 178, 174, 172, 170, 165, 160, ...</td>\n      <td>int64</td>\n    </tr>\n    <tr>\n      <th>Cholesterol</th>\n      <td>270</td>\n      <td>0</td>\n      <td>100.0</td>\n      <td>144</td>\n      <td>[564, 417, 409, 407, 394, 360, 354, 353, 341, ...</td>\n      <td>int64</td>\n    </tr>\n    <tr>\n      <th>FBS over 120</th>\n      <td>270</td>\n      <td>0</td>\n      <td>100.0</td>\n      <td>2</td>\n      <td>[1, 0]</td>\n      <td>int64</td>\n    </tr>\n    <tr>\n      <th>EKG results</th>\n      <td>270</td>\n      <td>0</td>\n      <td>100.0</td>\n      <td>3</td>\n      <td>[2, 1, 0]</td>\n      <td>int64</td>\n    </tr>\n    <tr>\n      <th>Max HR</th>\n      <td>270</td>\n      <td>0</td>\n      <td>100.0</td>\n      <td>90</td>\n      <td>[202, 195, 194, 192, 190, 188, 187, 186, 185, ...</td>\n      <td>int64</td>\n    </tr>\n    <tr>\n      <th>Exercise angina</th>\n      <td>270</td>\n      <td>0</td>\n      <td>100.0</td>\n      <td>2</td>\n      <td>[1, 0]</td>\n      <td>int64</td>\n    </tr>\n    <tr>\n      <th>ST depression</th>\n      <td>270</td>\n      <td>0</td>\n      <td>100.0</td>\n      <td>39</td>\n      <td>[6.2, 5.6, 4.2, 4.0, 3.8, 3.6, 3.5, 3.4, 3.2, ...</td>\n      <td>float64</td>\n    </tr>\n    <tr>\n      <th>Slope of ST</th>\n      <td>270</td>\n      <td>0</td>\n      <td>100.0</td>\n      <td>3</td>\n      <td>[3, 2, 1]</td>\n      <td>int64</td>\n    </tr>\n    <tr>\n      <th>Number of vessels fluro</th>\n      <td>270</td>\n      <td>0</td>\n      <td>100.0</td>\n      <td>4</td>\n      <td>[3, 2, 1, 0]</td>\n      <td>int64</td>\n    </tr>\n    <tr>\n      <th>Thallium</th>\n      <td>270</td>\n      <td>0</td>\n      <td>100.0</td>\n      <td>3</td>\n      <td>[7, 6, 3]</td>\n      <td>int64</td>\n    </tr>\n    <tr>\n      <th>Heart Disease</th>\n      <td>270</td>\n      <td>0</td>\n      <td>100.0</td>\n      <td>2</td>\n      <td>[Presence, Absence]</td>\n      <td>object</td>\n    </tr>\n  </tbody>\n</table>\n</div>"
     },
     "execution_count": 14,
     "metadata": {},
     "output_type": "execute_result"
    }
   ],
   "source": [
    "create_general_analysis(pd.read_csv('Heart_Disease_Prediction.csv'))"
   ],
   "metadata": {
    "collapsed": false,
    "pycharm": {
     "name": "#%%\n"
    }
   }
  },
  {
   "cell_type": "markdown",
   "source": [
    "# 5"
   ],
   "metadata": {
    "collapsed": false,
    "pycharm": {
     "name": "#%% md\n"
    }
   }
  },
  {
   "cell_type": "code",
   "execution_count": 15,
   "outputs": [
    {
     "data": {
      "text/plain": "      id  age     sex        dataset               cp  trestbps   chol    fbs  \\\n0      1   63    Male      Cleveland   typical angina     145.0  233.0   True   \n1      2   67    Male      Cleveland     asymptomatic     160.0  286.0  False   \n2      3   67    Male      Cleveland     asymptomatic     120.0  229.0  False   \n3      4   37    Male      Cleveland      non-anginal     130.0  250.0  False   \n4      5   41  Female      Cleveland  atypical angina     130.0  204.0  False   \n..   ...  ...     ...            ...              ...       ...    ...    ...   \n915  916   54  Female  VA Long Beach     asymptomatic     127.0  333.0   True   \n916  917   62    Male  VA Long Beach   typical angina       NaN  139.0  False   \n917  918   55    Male  VA Long Beach     asymptomatic     122.0  223.0   True   \n918  919   58    Male  VA Long Beach     asymptomatic       NaN  385.0   True   \n919  920   62    Male  VA Long Beach  atypical angina     120.0  254.0  False   \n\n              restecg  thalch  exang  oldpeak        slope   ca  \\\n0      lv hypertrophy   150.0  False      2.3  downsloping  0.0   \n1      lv hypertrophy   108.0   True      1.5         flat  3.0   \n2      lv hypertrophy   129.0   True      2.6         flat  2.0   \n3              normal   187.0  False      3.5  downsloping  0.0   \n4      lv hypertrophy   172.0  False      1.4    upsloping  0.0   \n..                ...     ...    ...      ...          ...  ...   \n915  st-t abnormality   154.0  False      0.0          NaN  NaN   \n916  st-t abnormality     NaN    NaN      NaN          NaN  NaN   \n917  st-t abnormality   100.0  False      0.0          NaN  NaN   \n918    lv hypertrophy     NaN    NaN      NaN          NaN  NaN   \n919    lv hypertrophy    93.0   True      0.0          NaN  NaN   \n\n                  thal  num  \n0         fixed defect    0  \n1               normal    2  \n2    reversable defect    1  \n3               normal    0  \n4               normal    0  \n..                 ...  ...  \n915                NaN    1  \n916                NaN    0  \n917       fixed defect    2  \n918                NaN    0  \n919                NaN    1  \n\n[920 rows x 16 columns]",
      "text/html": "<div>\n<style scoped>\n    .dataframe tbody tr th:only-of-type {\n        vertical-align: middle;\n    }\n\n    .dataframe tbody tr th {\n        vertical-align: top;\n    }\n\n    .dataframe thead th {\n        text-align: right;\n    }\n</style>\n<table border=\"1\" class=\"dataframe\">\n  <thead>\n    <tr style=\"text-align: right;\">\n      <th></th>\n      <th>id</th>\n      <th>age</th>\n      <th>sex</th>\n      <th>dataset</th>\n      <th>cp</th>\n      <th>trestbps</th>\n      <th>chol</th>\n      <th>fbs</th>\n      <th>restecg</th>\n      <th>thalch</th>\n      <th>exang</th>\n      <th>oldpeak</th>\n      <th>slope</th>\n      <th>ca</th>\n      <th>thal</th>\n      <th>num</th>\n    </tr>\n  </thead>\n  <tbody>\n    <tr>\n      <th>0</th>\n      <td>1</td>\n      <td>63</td>\n      <td>Male</td>\n      <td>Cleveland</td>\n      <td>typical angina</td>\n      <td>145.0</td>\n      <td>233.0</td>\n      <td>True</td>\n      <td>lv hypertrophy</td>\n      <td>150.0</td>\n      <td>False</td>\n      <td>2.3</td>\n      <td>downsloping</td>\n      <td>0.0</td>\n      <td>fixed defect</td>\n      <td>0</td>\n    </tr>\n    <tr>\n      <th>1</th>\n      <td>2</td>\n      <td>67</td>\n      <td>Male</td>\n      <td>Cleveland</td>\n      <td>asymptomatic</td>\n      <td>160.0</td>\n      <td>286.0</td>\n      <td>False</td>\n      <td>lv hypertrophy</td>\n      <td>108.0</td>\n      <td>True</td>\n      <td>1.5</td>\n      <td>flat</td>\n      <td>3.0</td>\n      <td>normal</td>\n      <td>2</td>\n    </tr>\n    <tr>\n      <th>2</th>\n      <td>3</td>\n      <td>67</td>\n      <td>Male</td>\n      <td>Cleveland</td>\n      <td>asymptomatic</td>\n      <td>120.0</td>\n      <td>229.0</td>\n      <td>False</td>\n      <td>lv hypertrophy</td>\n      <td>129.0</td>\n      <td>True</td>\n      <td>2.6</td>\n      <td>flat</td>\n      <td>2.0</td>\n      <td>reversable defect</td>\n      <td>1</td>\n    </tr>\n    <tr>\n      <th>3</th>\n      <td>4</td>\n      <td>37</td>\n      <td>Male</td>\n      <td>Cleveland</td>\n      <td>non-anginal</td>\n      <td>130.0</td>\n      <td>250.0</td>\n      <td>False</td>\n      <td>normal</td>\n      <td>187.0</td>\n      <td>False</td>\n      <td>3.5</td>\n      <td>downsloping</td>\n      <td>0.0</td>\n      <td>normal</td>\n      <td>0</td>\n    </tr>\n    <tr>\n      <th>4</th>\n      <td>5</td>\n      <td>41</td>\n      <td>Female</td>\n      <td>Cleveland</td>\n      <td>atypical angina</td>\n      <td>130.0</td>\n      <td>204.0</td>\n      <td>False</td>\n      <td>lv hypertrophy</td>\n      <td>172.0</td>\n      <td>False</td>\n      <td>1.4</td>\n      <td>upsloping</td>\n      <td>0.0</td>\n      <td>normal</td>\n      <td>0</td>\n    </tr>\n    <tr>\n      <th>...</th>\n      <td>...</td>\n      <td>...</td>\n      <td>...</td>\n      <td>...</td>\n      <td>...</td>\n      <td>...</td>\n      <td>...</td>\n      <td>...</td>\n      <td>...</td>\n      <td>...</td>\n      <td>...</td>\n      <td>...</td>\n      <td>...</td>\n      <td>...</td>\n      <td>...</td>\n      <td>...</td>\n    </tr>\n    <tr>\n      <th>915</th>\n      <td>916</td>\n      <td>54</td>\n      <td>Female</td>\n      <td>VA Long Beach</td>\n      <td>asymptomatic</td>\n      <td>127.0</td>\n      <td>333.0</td>\n      <td>True</td>\n      <td>st-t abnormality</td>\n      <td>154.0</td>\n      <td>False</td>\n      <td>0.0</td>\n      <td>NaN</td>\n      <td>NaN</td>\n      <td>NaN</td>\n      <td>1</td>\n    </tr>\n    <tr>\n      <th>916</th>\n      <td>917</td>\n      <td>62</td>\n      <td>Male</td>\n      <td>VA Long Beach</td>\n      <td>typical angina</td>\n      <td>NaN</td>\n      <td>139.0</td>\n      <td>False</td>\n      <td>st-t abnormality</td>\n      <td>NaN</td>\n      <td>NaN</td>\n      <td>NaN</td>\n      <td>NaN</td>\n      <td>NaN</td>\n      <td>NaN</td>\n      <td>0</td>\n    </tr>\n    <tr>\n      <th>917</th>\n      <td>918</td>\n      <td>55</td>\n      <td>Male</td>\n      <td>VA Long Beach</td>\n      <td>asymptomatic</td>\n      <td>122.0</td>\n      <td>223.0</td>\n      <td>True</td>\n      <td>st-t abnormality</td>\n      <td>100.0</td>\n      <td>False</td>\n      <td>0.0</td>\n      <td>NaN</td>\n      <td>NaN</td>\n      <td>fixed defect</td>\n      <td>2</td>\n    </tr>\n    <tr>\n      <th>918</th>\n      <td>919</td>\n      <td>58</td>\n      <td>Male</td>\n      <td>VA Long Beach</td>\n      <td>asymptomatic</td>\n      <td>NaN</td>\n      <td>385.0</td>\n      <td>True</td>\n      <td>lv hypertrophy</td>\n      <td>NaN</td>\n      <td>NaN</td>\n      <td>NaN</td>\n      <td>NaN</td>\n      <td>NaN</td>\n      <td>NaN</td>\n      <td>0</td>\n    </tr>\n    <tr>\n      <th>919</th>\n      <td>920</td>\n      <td>62</td>\n      <td>Male</td>\n      <td>VA Long Beach</td>\n      <td>atypical angina</td>\n      <td>120.0</td>\n      <td>254.0</td>\n      <td>False</td>\n      <td>lv hypertrophy</td>\n      <td>93.0</td>\n      <td>True</td>\n      <td>0.0</td>\n      <td>NaN</td>\n      <td>NaN</td>\n      <td>NaN</td>\n      <td>1</td>\n    </tr>\n  </tbody>\n</table>\n<p>920 rows × 16 columns</p>\n</div>"
     },
     "execution_count": 15,
     "metadata": {},
     "output_type": "execute_result"
    }
   ],
   "source": [
    "pd.read_csv('heart_disease_uci.csv')"
   ],
   "metadata": {
    "collapsed": false,
    "pycharm": {
     "name": "#%%\n"
    }
   }
  },
  {
   "cell_type": "code",
   "execution_count": 16,
   "outputs": [
    {
     "name": "stdout",
     "output_type": "stream",
     "text": [
      "General data analysis:\n",
      "\n",
      "Shape of the table:      (920, 16)\n",
      "Duplicates in the table: 0, (0.0%)\n"
     ]
    },
    {
     "data": {
      "text/plain": "          values_num  nan_values_num   occupancy  unique_values_num  \\\nid               920               0  100.000000                920   \nage              920               0  100.000000                 50   \nsex              920               0  100.000000                  2   \ndataset          920               0  100.000000                  4   \ncp               920               0  100.000000                  4   \ntrestbps         861              59   93.586957                 61   \nchol             890              30   96.739130                217   \nfbs              830              90   90.217391                  2   \nrestecg          918               2   99.782609                  3   \nthalch           865              55   94.021739                119   \nexang            865              55   94.021739                  2   \noldpeak          858              62   93.260870                 53   \nslope            611             309   66.413043                  3   \nca               309             611   33.586957                  4   \nthal             434             486   47.173913                  3   \nnum              920               0  100.000000                  5   \n\n                                              unique_values    dtype  \nid        [920, 919, 918, 917, 916, 915, 914, 913, 912, ...    int64  \nage       [77, 76, 75, 74, 73, 72, 71, 70, 69, 68, 67, 6...    int64  \nsex                                          [Male, Female]   object  \ndataset    [VA Long Beach, Switzerland, Hungary, Cleveland]   object  \ncp        [typical angina, non-anginal, atypical angina,...   object  \ntrestbps  [200.0, 192.0, 190.0, 185.0, 180.0, 178.0, 174...  float64  \nchol      [603.0, 564.0, 529.0, 518.0, 491.0, 468.0, 466...  float64  \nfbs                                      [True, False, nan]   object  \nrestecg     [st-t abnormality, normal, lv hypertrophy, nan]   object  \nthalch    [202.0, 195.0, 194.0, 192.0, 190.0, 188.0, 187...  float64  \nexang                                    [True, False, nan]   object  \noldpeak   [6.2, 5.6, 5.0, 4.4, 4.2, 4.0, 3.8, 3.7, 3.6, ...  float64  \nslope                   [upsloping, flat, downsloping, nan]   object  \nca                                [3.0, 2.0, 1.0, 0.0, nan]  float64  \nthal         [reversable defect, normal, fixed defect, nan]   object  \nnum                                         [4, 3, 2, 1, 0]    int64  ",
      "text/html": "<div>\n<style scoped>\n    .dataframe tbody tr th:only-of-type {\n        vertical-align: middle;\n    }\n\n    .dataframe tbody tr th {\n        vertical-align: top;\n    }\n\n    .dataframe thead th {\n        text-align: right;\n    }\n</style>\n<table border=\"1\" class=\"dataframe\">\n  <thead>\n    <tr style=\"text-align: right;\">\n      <th></th>\n      <th>values_num</th>\n      <th>nan_values_num</th>\n      <th>occupancy</th>\n      <th>unique_values_num</th>\n      <th>unique_values</th>\n      <th>dtype</th>\n    </tr>\n  </thead>\n  <tbody>\n    <tr>\n      <th>id</th>\n      <td>920</td>\n      <td>0</td>\n      <td>100.000000</td>\n      <td>920</td>\n      <td>[920, 919, 918, 917, 916, 915, 914, 913, 912, ...</td>\n      <td>int64</td>\n    </tr>\n    <tr>\n      <th>age</th>\n      <td>920</td>\n      <td>0</td>\n      <td>100.000000</td>\n      <td>50</td>\n      <td>[77, 76, 75, 74, 73, 72, 71, 70, 69, 68, 67, 6...</td>\n      <td>int64</td>\n    </tr>\n    <tr>\n      <th>sex</th>\n      <td>920</td>\n      <td>0</td>\n      <td>100.000000</td>\n      <td>2</td>\n      <td>[Male, Female]</td>\n      <td>object</td>\n    </tr>\n    <tr>\n      <th>dataset</th>\n      <td>920</td>\n      <td>0</td>\n      <td>100.000000</td>\n      <td>4</td>\n      <td>[VA Long Beach, Switzerland, Hungary, Cleveland]</td>\n      <td>object</td>\n    </tr>\n    <tr>\n      <th>cp</th>\n      <td>920</td>\n      <td>0</td>\n      <td>100.000000</td>\n      <td>4</td>\n      <td>[typical angina, non-anginal, atypical angina,...</td>\n      <td>object</td>\n    </tr>\n    <tr>\n      <th>trestbps</th>\n      <td>861</td>\n      <td>59</td>\n      <td>93.586957</td>\n      <td>61</td>\n      <td>[200.0, 192.0, 190.0, 185.0, 180.0, 178.0, 174...</td>\n      <td>float64</td>\n    </tr>\n    <tr>\n      <th>chol</th>\n      <td>890</td>\n      <td>30</td>\n      <td>96.739130</td>\n      <td>217</td>\n      <td>[603.0, 564.0, 529.0, 518.0, 491.0, 468.0, 466...</td>\n      <td>float64</td>\n    </tr>\n    <tr>\n      <th>fbs</th>\n      <td>830</td>\n      <td>90</td>\n      <td>90.217391</td>\n      <td>2</td>\n      <td>[True, False, nan]</td>\n      <td>object</td>\n    </tr>\n    <tr>\n      <th>restecg</th>\n      <td>918</td>\n      <td>2</td>\n      <td>99.782609</td>\n      <td>3</td>\n      <td>[st-t abnormality, normal, lv hypertrophy, nan]</td>\n      <td>object</td>\n    </tr>\n    <tr>\n      <th>thalch</th>\n      <td>865</td>\n      <td>55</td>\n      <td>94.021739</td>\n      <td>119</td>\n      <td>[202.0, 195.0, 194.0, 192.0, 190.0, 188.0, 187...</td>\n      <td>float64</td>\n    </tr>\n    <tr>\n      <th>exang</th>\n      <td>865</td>\n      <td>55</td>\n      <td>94.021739</td>\n      <td>2</td>\n      <td>[True, False, nan]</td>\n      <td>object</td>\n    </tr>\n    <tr>\n      <th>oldpeak</th>\n      <td>858</td>\n      <td>62</td>\n      <td>93.260870</td>\n      <td>53</td>\n      <td>[6.2, 5.6, 5.0, 4.4, 4.2, 4.0, 3.8, 3.7, 3.6, ...</td>\n      <td>float64</td>\n    </tr>\n    <tr>\n      <th>slope</th>\n      <td>611</td>\n      <td>309</td>\n      <td>66.413043</td>\n      <td>3</td>\n      <td>[upsloping, flat, downsloping, nan]</td>\n      <td>object</td>\n    </tr>\n    <tr>\n      <th>ca</th>\n      <td>309</td>\n      <td>611</td>\n      <td>33.586957</td>\n      <td>4</td>\n      <td>[3.0, 2.0, 1.0, 0.0, nan]</td>\n      <td>float64</td>\n    </tr>\n    <tr>\n      <th>thal</th>\n      <td>434</td>\n      <td>486</td>\n      <td>47.173913</td>\n      <td>3</td>\n      <td>[reversable defect, normal, fixed defect, nan]</td>\n      <td>object</td>\n    </tr>\n    <tr>\n      <th>num</th>\n      <td>920</td>\n      <td>0</td>\n      <td>100.000000</td>\n      <td>5</td>\n      <td>[4, 3, 2, 1, 0]</td>\n      <td>int64</td>\n    </tr>\n  </tbody>\n</table>\n</div>"
     },
     "execution_count": 16,
     "metadata": {},
     "output_type": "execute_result"
    }
   ],
   "source": [
    "create_general_analysis(pd.read_csv('heart_disease_uci.csv'))"
   ],
   "metadata": {
    "collapsed": false,
    "pycharm": {
     "name": "#%%\n"
    }
   }
  },
  {
   "cell_type": "code",
   "execution_count": 26,
   "outputs": [
    {
     "data": {
      "text/plain": "<Figure size 432x288 with 2 Axes>",
      "image/png": "[encoded data removed]"
     },
     "metadata": {},
     "output_type": "display_data"
    }
   ],
   "source": [
    "pd.read_csv('heart_disease_uci.csv')[['sex', 'age', 'num']].hist()\n",
    "plt.show()"
   ],
   "metadata": {
    "collapsed": false,
    "pycharm": {
     "name": "#%%\n"
    }
   }
  },
  {
   "cell_type": "code",
   "execution_count": 30,
   "outputs": [
    {
     "data": {
      "text/plain": "<AxesSubplot:>"
     },
     "execution_count": 30,
     "metadata": {},
     "output_type": "execute_result"
    },
    {
     "data": {
      "text/plain": "<Figure size 432x288 with 1 Axes>",
      "image/png": "[encoded data removed]"
     },
     "metadata": {},
     "output_type": "display_data"
    }
   ],
   "source": [
    "pd.read_csv('heart_disease_uci.csv')['sex'].value_counts().plot(kind='bar')"
   ],
   "metadata": {
    "collapsed": false,
    "pycharm": {
     "name": "#%%\n"
    }
   }
  },
  {
   "cell_type": "markdown",
   "source": [
    "# 6"
   ],
   "metadata": {
    "collapsed": false,
    "pycharm": {
     "name": "#%% md\n"
    }
   }
  },
  {
   "cell_type": "code",
   "execution_count": 21,
   "outputs": [
    {
     "data": {
      "text/plain": "     age  gender  polyuria  polydipsia  sudden_weight_loss  weakness  \\\n0     40    Male         0           1                   0         1   \n1     58    Male         0           0                   0         1   \n2     41    Male         1           0                   0         1   \n3     45    Male         0           0                   1         1   \n4     60    Male         1           1                   1         1   \n..   ...     ...       ...         ...                 ...       ...   \n515   39  Female         1           1                   1         0   \n516   48  Female         1           1                   1         1   \n517   58  Female         1           1                   1         1   \n518   32  Female         0           0                   0         1   \n519   42    Male         0           0                   0         0   \n\n     polyphagia  genital_thrush  visual_blurring  itching  irritability  \\\n0             0               0                0        1             0   \n1             0               0                1        0             0   \n2             1               0                0        1             0   \n3             1               1                0        1             0   \n4             1               0                1        1             1   \n..          ...             ...              ...      ...           ...   \n515           1               0                0        1             0   \n516           1               0                0        1             1   \n517           1               0                1        0             0   \n518           0               0                1        1             0   \n519           0               0                0        0             0   \n\n     delayed_healing  partial_paresis  muscle_stiffness  alopecia  obesity  \\\n0                  1                0                 1         1        1   \n1                  0                1                 0         1        0   \n2                  1                0                 1         1        0   \n3                  1                0                 0         0        0   \n4                  1                1                 1         1        1   \n..               ...              ...               ...       ...      ...   \n515                1                1                 0         0        0   \n516                1                1                 0         0        0   \n517                0                1                 1         0        1   \n518                1                0                 0         1        0   \n519                0                0                 0         0        0   \n\n     class  \n0        1  \n1        1  \n2        1  \n3        1  \n4        1  \n..     ...  \n515      1  \n516      1  \n517      1  \n518      0  \n519      0  \n\n[520 rows x 17 columns]",
      "text/html": "<div>\n<style scoped>\n    .dataframe tbody tr th:only-of-type {\n        vertical-align: middle;\n    }\n\n    .dataframe tbody tr th {\n        vertical-align: top;\n    }\n\n    .dataframe thead th {\n        text-align: right;\n    }\n</style>\n<table border=\"1\" class=\"dataframe\">\n  <thead>\n    <tr style=\"text-align: right;\">\n      <th></th>\n      <th>age</th>\n      <th>gender</th>\n      <th>polyuria</th>\n      <th>polydipsia</th>\n      <th>sudden_weight_loss</th>\n      <th>weakness</th>\n      <th>polyphagia</th>\n      <th>genital_thrush</th>\n      <th>visual_blurring</th>\n      <th>itching</th>\n      <th>irritability</th>\n      <th>delayed_healing</th>\n      <th>partial_paresis</th>\n      <th>muscle_stiffness</th>\n      <th>alopecia</th>\n      <th>obesity</th>\n      <th>class</th>\n    </tr>\n  </thead>\n  <tbody>\n    <tr>\n      <th>0</th>\n      <td>40</td>\n      <td>Male</td>\n      <td>0</td>\n      <td>1</td>\n      <td>0</td>\n      <td>1</td>\n      <td>0</td>\n      <td>0</td>\n      <td>0</td>\n      <td>1</td>\n      <td>0</td>\n      <td>1</td>\n      <td>0</td>\n      <td>1</td>\n      <td>1</td>\n      <td>1</td>\n      <td>1</td>\n    </tr>\n    <tr>\n      <th>1</th>\n      <td>58</td>\n      <td>Male</td>\n      <td>0</td>\n      <td>0</td>\n      <td>0</td>\n      <td>1</td>\n      <td>0</td>\n      <td>0</td>\n      <td>1</td>\n      <td>0</td>\n      <td>0</td>\n      <td>0</td>\n      <td>1</td>\n      <td>0</td>\n      <td>1</td>\n      <td>0</td>\n      <td>1</td>\n    </tr>\n    <tr>\n      <th>2</th>\n      <td>41</td>\n      <td>Male</td>\n      <td>1</td>\n      <td>0</td>\n      <td>0</td>\n      <td>1</td>\n      <td>1</td>\n      <td>0</td>\n      <td>0</td>\n      <td>1</td>\n      <td>0</td>\n      <td>1</td>\n      <td>0</td>\n      <td>1</td>\n      <td>1</td>\n      <td>0</td>\n      <td>1</td>\n    </tr>\n    <tr>\n      <th>3</th>\n      <td>45</td>\n      <td>Male</td>\n      <td>0</td>\n      <td>0</td>\n      <td>1</td>\n      <td>1</td>\n      <td>1</td>\n      <td>1</td>\n      <td>0</td>\n      <td>1</td>\n      <td>0</td>\n      <td>1</td>\n      <td>0</td>\n      <td>0</td>\n      <td>0</td>\n      <td>0</td>\n      <td>1</td>\n    </tr>\n    <tr>\n      <th>4</th>\n      <td>60</td>\n      <td>Male</td>\n      <td>1</td>\n      <td>1</td>\n      <td>1</td>\n      <td>1</td>\n      <td>1</td>\n      <td>0</td>\n      <td>1</td>\n      <td>1</td>\n      <td>1</td>\n      <td>1</td>\n      <td>1</td>\n      <td>1</td>\n      <td>1</td>\n      <td>1</td>\n      <td>1</td>\n    </tr>\n    <tr>\n      <th>...</th>\n      <td>...</td>\n      <td>...</td>\n      <td>...</td>\n      <td>...</td>\n      <td>...</td>\n      <td>...</td>\n      <td>...</td>\n      <td>...</td>\n      <td>...</td>\n      <td>...</td>\n      <td>...</td>\n      <td>...</td>\n      <td>...</td>\n      <td>...</td>\n      <td>...</td>\n      <td>...</td>\n      <td>...</td>\n    </tr>\n    <tr>\n      <th>515</th>\n      <td>39</td>\n      <td>Female</td>\n      <td>1</td>\n      <td>1</td>\n      <td>1</td>\n      <td>0</td>\n      <td>1</td>\n      <td>0</td>\n      <td>0</td>\n      <td>1</td>\n      <td>0</td>\n      <td>1</td>\n      <td>1</td>\n      <td>0</td>\n      <td>0</td>\n      <td>0</td>\n      <td>1</td>\n    </tr>\n    <tr>\n      <th>516</th>\n      <td>48</td>\n      <td>Female</td>\n      <td>1</td>\n      <td>1</td>\n      <td>1</td>\n      <td>1</td>\n      <td>1</td>\n      <td>0</td>\n      <td>0</td>\n      <td>1</td>\n      <td>1</td>\n      <td>1</td>\n      <td>1</td>\n      <td>0</td>\n      <td>0</td>\n      <td>0</td>\n      <td>1</td>\n    </tr>\n    <tr>\n      <th>517</th>\n      <td>58</td>\n      <td>Female</td>\n      <td>1</td>\n      <td>1</td>\n      <td>1</td>\n      <td>1</td>\n      <td>1</td>\n      <td>0</td>\n      <td>1</td>\n      <td>0</td>\n      <td>0</td>\n      <td>0</td>\n      <td>1</td>\n      <td>1</td>\n      <td>0</td>\n      <td>1</td>\n      <td>1</td>\n    </tr>\n    <tr>\n      <th>518</th>\n      <td>32</td>\n      <td>Female</td>\n      <td>0</td>\n      <td>0</td>\n      <td>0</td>\n      <td>1</td>\n      <td>0</td>\n      <td>0</td>\n      <td>1</td>\n      <td>1</td>\n      <td>0</td>\n      <td>1</td>\n      <td>0</td>\n      <td>0</td>\n      <td>1</td>\n      <td>0</td>\n      <td>0</td>\n    </tr>\n    <tr>\n      <th>519</th>\n      <td>42</td>\n      <td>Male</td>\n      <td>0</td>\n      <td>0</td>\n      <td>0</td>\n      <td>0</td>\n      <td>0</td>\n      <td>0</td>\n      <td>0</td>\n      <td>0</td>\n      <td>0</td>\n      <td>0</td>\n      <td>0</td>\n      <td>0</td>\n      <td>0</td>\n      <td>0</td>\n      <td>0</td>\n    </tr>\n  </tbody>\n</table>\n<p>520 rows × 17 columns</p>\n</div>"
     },
     "execution_count": 21,
     "metadata": {},
     "output_type": "execute_result"
    }
   ],
   "source": [
    "pd.read_csv('diabetes_data.csv', sep=';')"
   ],
   "metadata": {
    "collapsed": false,
    "pycharm": {
     "name": "#%%\n"
    }
   }
  },
  {
   "cell_type": "code",
   "execution_count": 22,
   "outputs": [
    {
     "name": "stdout",
     "output_type": "stream",
     "text": [
      "General data analysis:\n",
      "\n",
      "Shape of the table:      (520, 17)\n",
      "Duplicates in the table: 269, (51.73%)\n"
     ]
    },
    {
     "data": {
      "text/plain": "                    values_num  nan_values_num  occupancy  unique_values_num  \\\nage                        520               0      100.0                 51   \ngender                     520               0      100.0                  2   \npolyuria                   520               0      100.0                  2   \npolydipsia                 520               0      100.0                  2   \nsudden_weight_loss         520               0      100.0                  2   \nweakness                   520               0      100.0                  2   \npolyphagia                 520               0      100.0                  2   \ngenital_thrush             520               0      100.0                  2   \nvisual_blurring            520               0      100.0                  2   \nitching                    520               0      100.0                  2   \nirritability               520               0      100.0                  2   \ndelayed_healing            520               0      100.0                  2   \npartial_paresis            520               0      100.0                  2   \nmuscle_stiffness           520               0      100.0                  2   \nalopecia                   520               0      100.0                  2   \nobesity                    520               0      100.0                  2   \nclass                      520               0      100.0                  2   \n\n                                                        unique_values   dtype  \nage                 [90, 85, 79, 72, 70, 69, 68, 67, 66, 65, 64, 6...   int64  \ngender                                                 [Male, Female]  object  \npolyuria                                                       [1, 0]   int64  \npolydipsia                                                     [1, 0]   int64  \nsudden_weight_loss                                             [1, 0]   int64  \nweakness                                                       [1, 0]   int64  \npolyphagia                                                     [1, 0]   int64  \ngenital_thrush                                                 [1, 0]   int64  \nvisual_blurring                                                [1, 0]   int64  \nitching                                                        [1, 0]   int64  \nirritability                                                   [1, 0]   int64  \ndelayed_healing                                                [1, 0]   int64  \npartial_paresis                                                [1, 0]   int64  \nmuscle_stiffness                                               [1, 0]   int64  \nalopecia                                                       [1, 0]   int64  \nobesity                                                        [1, 0]   int64  \nclass                                                          [1, 0]   int64  ",
      "text/html": "<div>\n<style scoped>\n    .dataframe tbody tr th:only-of-type {\n        vertical-align: middle;\n    }\n\n    .dataframe tbody tr th {\n        vertical-align: top;\n    }\n\n    .dataframe thead th {\n        text-align: right;\n    }\n</style>\n<table border=\"1\" class=\"dataframe\">\n  <thead>\n    <tr style=\"text-align: right;\">\n      <th></th>\n      <th>values_num</th>\n      <th>nan_values_num</th>\n      <th>occupancy</th>\n      <th>unique_values_num</th>\n      <th>unique_values</th>\n      <th>dtype</th>\n    </tr>\n  </thead>\n  <tbody>\n    <tr>\n      <th>age</th>\n      <td>520</td>\n      <td>0</td>\n      <td>100.0</td>\n      <td>51</td>\n      <td>[90, 85, 79, 72, 70, 69, 68, 67, 66, 65, 64, 6...</td>\n      <td>int64</td>\n    </tr>\n    <tr>\n      <th>gender</th>\n      <td>520</td>\n      <td>0</td>\n      <td>100.0</td>\n      <td>2</td>\n      <td>[Male, Female]</td>\n      <td>object</td>\n    </tr>\n    <tr>\n      <th>polyuria</th>\n      <td>520</td>\n      <td>0</td>\n      <td>100.0</td>\n      <td>2</td>\n      <td>[1, 0]</td>\n      <td>int64</td>\n    </tr>\n    <tr>\n      <th>polydipsia</th>\n      <td>520</td>\n      <td>0</td>\n      <td>100.0</td>\n      <td>2</td>\n      <td>[1, 0]</td>\n      <td>int64</td>\n    </tr>\n    <tr>\n      <th>sudden_weight_loss</th>\n      <td>520</td>\n      <td>0</td>\n      <td>100.0</td>\n      <td>2</td>\n      <td>[1, 0]</td>\n      <td>int64</td>\n    </tr>\n    <tr>\n      <th>weakness</th>\n      <td>520</td>\n      <td>0</td>\n      <td>100.0</td>\n      <td>2</td>\n      <td>[1, 0]</td>\n      <td>int64</td>\n    </tr>\n    <tr>\n      <th>polyphagia</th>\n      <td>520</td>\n      <td>0</td>\n      <td>100.0</td>\n      <td>2</td>\n      <td>[1, 0]</td>\n      <td>int64</td>\n    </tr>\n    <tr>\n      <th>genital_thrush</th>\n      <td>520</td>\n      <td>0</td>\n      <td>100.0</td>\n      <td>2</td>\n      <td>[1, 0]</td>\n      <td>int64</td>\n    </tr>\n    <tr>\n      <th>visual_blurring</th>\n      <td>520</td>\n      <td>0</td>\n      <td>100.0</td>\n      <td>2</td>\n      <td>[1, 0]</td>\n      <td>int64</td>\n    </tr>\n    <tr>\n      <th>itching</th>\n      <td>520</td>\n      <td>0</td>\n      <td>100.0</td>\n      <td>2</td>\n      <td>[1, 0]</td>\n      <td>int64</td>\n    </tr>\n    <tr>\n      <th>irritability</th>\n      <td>520</td>\n      <td>0</td>\n      <td>100.0</td>\n      <td>2</td>\n      <td>[1, 0]</td>\n      <td>int64</td>\n    </tr>\n    <tr>\n      <th>delayed_healing</th>\n      <td>520</td>\n      <td>0</td>\n      <td>100.0</td>\n      <td>2</td>\n      <td>[1, 0]</td>\n      <td>int64</td>\n    </tr>\n    <tr>\n      <th>partial_paresis</th>\n      <td>520</td>\n      <td>0</td>\n      <td>100.0</td>\n      <td>2</td>\n      <td>[1, 0]</td>\n      <td>int64</td>\n    </tr>\n    <tr>\n      <th>muscle_stiffness</th>\n      <td>520</td>\n      <td>0</td>\n      <td>100.0</td>\n      <td>2</td>\n      <td>[1, 0]</td>\n      <td>int64</td>\n    </tr>\n    <tr>\n      <th>alopecia</th>\n      <td>520</td>\n      <td>0</td>\n      <td>100.0</td>\n      <td>2</td>\n      <td>[1, 0]</td>\n      <td>int64</td>\n    </tr>\n    <tr>\n      <th>obesity</th>\n      <td>520</td>\n      <td>0</td>\n      <td>100.0</td>\n      <td>2</td>\n      <td>[1, 0]</td>\n      <td>int64</td>\n    </tr>\n    <tr>\n      <th>class</th>\n      <td>520</td>\n      <td>0</td>\n      <td>100.0</td>\n      <td>2</td>\n      <td>[1, 0]</td>\n      <td>int64</td>\n    </tr>\n  </tbody>\n</table>\n</div>"
     },
     "execution_count": 22,
     "metadata": {},
     "output_type": "execute_result"
    }
   ],
   "source": [
    "create_general_analysis(pd.read_csv('diabetes_data.csv', sep=';'))"
   ],
   "metadata": {
    "collapsed": false,
    "pycharm": {
     "name": "#%%\n"
    }
   }
  },
  {
   "cell_type": "markdown",
   "source": [
    "# 7"
   ],
   "metadata": {
    "collapsed": false,
    "pycharm": {
     "name": "#%% md\n"
    }
   }
  },
  {
   "cell_type": "code",
   "execution_count": 17,
   "outputs": [
    {
     "data": {
      "text/plain": "     age  sex  cp  trestbps  chol  fbs  restecg  thalach  exang  oldpeak  \\\n0     63    1   3       145   233    1        0      150      0      2.3   \n1     37    1   2       130   250    0        1      187      0      3.5   \n2     41    0   1       130   204    0        0      172      0      1.4   \n3     56    1   1       120   236    0        1      178      0      0.8   \n4     57    0   0       120   354    0        1      163      1      0.6   \n..   ...  ...  ..       ...   ...  ...      ...      ...    ...      ...   \n298   57    0   0       140   241    0        1      123      1      0.2   \n299   45    1   3       110   264    0        1      132      0      1.2   \n300   68    1   0       144   193    1        1      141      0      3.4   \n301   57    1   0       130   131    0        1      115      1      1.2   \n302   57    0   1       130   236    0        0      174      0      0.0   \n\n     slope  ca  thal  target  \n0        0   0     1       1  \n1        0   0     2       1  \n2        2   0     2       1  \n3        2   0     2       1  \n4        2   0     2       1  \n..     ...  ..   ...     ...  \n298      1   0     3       0  \n299      1   0     3       0  \n300      1   2     3       0  \n301      1   1     3       0  \n302      1   1     2       0  \n\n[303 rows x 14 columns]",
      "text/html": "<div>\n<style scoped>\n    .dataframe tbody tr th:only-of-type {\n        vertical-align: middle;\n    }\n\n    .dataframe tbody tr th {\n        vertical-align: top;\n    }\n\n    .dataframe thead th {\n        text-align: right;\n    }\n</style>\n<table border=\"1\" class=\"dataframe\">\n  <thead>\n    <tr style=\"text-align: right;\">\n      <th></th>\n      <th>age</th>\n      <th>sex</th>\n      <th>cp</th>\n      <th>trestbps</th>\n      <th>chol</th>\n      <th>fbs</th>\n      <th>restecg</th>\n      <th>thalach</th>\n      <th>exang</th>\n      <th>oldpeak</th>\n      <th>slope</th>\n      <th>ca</th>\n      <th>thal</th>\n      <th>target</th>\n    </tr>\n  </thead>\n  <tbody>\n    <tr>\n      <th>0</th>\n      <td>63</td>\n      <td>1</td>\n      <td>3</td>\n      <td>145</td>\n      <td>233</td>\n      <td>1</td>\n      <td>0</td>\n      <td>150</td>\n      <td>0</td>\n      <td>2.3</td>\n      <td>0</td>\n      <td>0</td>\n      <td>1</td>\n      <td>1</td>\n    </tr>\n    <tr>\n      <th>1</th>\n      <td>37</td>\n      <td>1</td>\n      <td>2</td>\n      <td>130</td>\n      <td>250</td>\n      <td>0</td>\n      <td>1</td>\n      <td>187</td>\n      <td>0</td>\n      <td>3.5</td>\n      <td>0</td>\n      <td>0</td>\n      <td>2</td>\n      <td>1</td>\n    </tr>\n    <tr>\n      <th>2</th>\n      <td>41</td>\n      <td>0</td>\n      <td>1</td>\n      <td>130</td>\n      <td>204</td>\n      <td>0</td>\n      <td>0</td>\n      <td>172</td>\n      <td>0</td>\n      <td>1.4</td>\n      <td>2</td>\n      <td>0</td>\n      <td>2</td>\n      <td>1</td>\n    </tr>\n    <tr>\n      <th>3</th>\n      <td>56</td>\n      <td>1</td>\n      <td>1</td>\n      <td>120</td>\n      <td>236</td>\n      <td>0</td>\n      <td>1</td>\n      <td>178</td>\n      <td>0</td>\n      <td>0.8</td>\n      <td>2</td>\n      <td>0</td>\n      <td>2</td>\n      <td>1</td>\n    </tr>\n    <tr>\n      <th>4</th>\n      <td>57</td>\n      <td>0</td>\n      <td>0</td>\n      <td>120</td>\n      <td>354</td>\n      <td>0</td>\n      <td>1</td>\n      <td>163</td>\n      <td>1</td>\n      <td>0.6</td>\n      <td>2</td>\n      <td>0</td>\n      <td>2</td>\n      <td>1</td>\n    </tr>\n    <tr>\n      <th>...</th>\n      <td>...</td>\n      <td>...</td>\n      <td>...</td>\n      <td>...</td>\n      <td>...</td>\n      <td>...</td>\n      <td>...</td>\n      <td>...</td>\n      <td>...</td>\n      <td>...</td>\n      <td>...</td>\n      <td>...</td>\n      <td>...</td>\n      <td>...</td>\n    </tr>\n    <tr>\n      <th>298</th>\n      <td>57</td>\n      <td>0</td>\n      <td>0</td>\n      <td>140</td>\n      <td>241</td>\n      <td>0</td>\n      <td>1</td>\n      <td>123</td>\n      <td>1</td>\n      <td>0.2</td>\n      <td>1</td>\n      <td>0</td>\n      <td>3</td>\n      <td>0</td>\n    </tr>\n    <tr>\n      <th>299</th>\n      <td>45</td>\n      <td>1</td>\n      <td>3</td>\n      <td>110</td>\n      <td>264</td>\n      <td>0</td>\n      <td>1</td>\n      <td>132</td>\n      <td>0</td>\n      <td>1.2</td>\n      <td>1</td>\n      <td>0</td>\n      <td>3</td>\n      <td>0</td>\n    </tr>\n    <tr>\n      <th>300</th>\n      <td>68</td>\n      <td>1</td>\n      <td>0</td>\n      <td>144</td>\n      <td>193</td>\n      <td>1</td>\n      <td>1</td>\n      <td>141</td>\n      <td>0</td>\n      <td>3.4</td>\n      <td>1</td>\n      <td>2</td>\n      <td>3</td>\n      <td>0</td>\n    </tr>\n    <tr>\n      <th>301</th>\n      <td>57</td>\n      <td>1</td>\n      <td>0</td>\n      <td>130</td>\n      <td>131</td>\n      <td>0</td>\n      <td>1</td>\n      <td>115</td>\n      <td>1</td>\n      <td>1.2</td>\n      <td>1</td>\n      <td>1</td>\n      <td>3</td>\n      <td>0</td>\n    </tr>\n    <tr>\n      <th>302</th>\n      <td>57</td>\n      <td>0</td>\n      <td>1</td>\n      <td>130</td>\n      <td>236</td>\n      <td>0</td>\n      <td>0</td>\n      <td>174</td>\n      <td>0</td>\n      <td>0.0</td>\n      <td>1</td>\n      <td>1</td>\n      <td>2</td>\n      <td>0</td>\n    </tr>\n  </tbody>\n</table>\n<p>303 rows × 14 columns</p>\n</div>"
     },
     "execution_count": 17,
     "metadata": {},
     "output_type": "execute_result"
    }
   ],
   "source": [
    "pd.read_csv('Heart Attack Data Set.csv')"
   ],
   "metadata": {
    "collapsed": false,
    "pycharm": {
     "name": "#%%\n"
    }
   }
  },
  {
   "cell_type": "code",
   "execution_count": 19,
   "outputs": [
    {
     "name": "stdout",
     "output_type": "stream",
     "text": [
      "General data analysis:\n",
      "\n",
      "Shape of the table:      (303, 14)\n",
      "Duplicates in the table: 1, (0.33%)\n"
     ]
    },
    {
     "data": {
      "text/plain": "          values_num  nan_values_num  occupancy  unique_values_num  \\\nage              303               0      100.0                 41   \nsex              303               0      100.0                  2   \ncp               303               0      100.0                  4   \ntrestbps         303               0      100.0                 49   \nchol             303               0      100.0                152   \nfbs              303               0      100.0                  2   \nrestecg          303               0      100.0                  3   \nthalach          303               0      100.0                 91   \nexang            303               0      100.0                  2   \noldpeak          303               0      100.0                 40   \nslope            303               0      100.0                  3   \nca               303               0      100.0                  5   \nthal             303               0      100.0                  4   \ntarget           303               0      100.0                  2   \n\n                                              unique_values    dtype  \nage       [77, 76, 74, 71, 70, 69, 68, 67, 66, 65, 64, 6...    int64  \nsex                                                  [1, 0]    int64  \ncp                                             [3, 2, 1, 0]    int64  \ntrestbps  [200, 192, 180, 178, 174, 172, 170, 165, 164, ...    int64  \nchol      [564, 417, 409, 407, 394, 360, 354, 353, 342, ...    int64  \nfbs                                                  [1, 0]    int64  \nrestecg                                           [2, 1, 0]    int64  \nthalach   [202, 195, 194, 192, 190, 188, 187, 186, 185, ...    int64  \nexang                                                [1, 0]    int64  \noldpeak   [6.2, 5.6, 4.4, 4.2, 4.0, 3.8, 3.6, 3.5, 3.4, ...  float64  \nslope                                             [2, 1, 0]    int64  \nca                                          [4, 3, 2, 1, 0]    int64  \nthal                                           [3, 2, 1, 0]    int64  \ntarget                                               [1, 0]    int64  ",
      "text/html": "<div>\n<style scoped>\n    .dataframe tbody tr th:only-of-type {\n        vertical-align: middle;\n    }\n\n    .dataframe tbody tr th {\n        vertical-align: top;\n    }\n\n    .dataframe thead th {\n        text-align: right;\n    }\n</style>\n<table border=\"1\" class=\"dataframe\">\n  <thead>\n    <tr style=\"text-align: right;\">\n      <th></th>\n      <th>values_num</th>\n      <th>nan_values_num</th>\n      <th>occupancy</th>\n      <th>unique_values_num</th>\n      <th>unique_values</th>\n      <th>dtype</th>\n    </tr>\n  </thead>\n  <tbody>\n    <tr>\n      <th>age</th>\n      <td>303</td>\n      <td>0</td>\n      <td>100.0</td>\n      <td>41</td>\n      <td>[77, 76, 74, 71, 70, 69, 68, 67, 66, 65, 64, 6...</td>\n      <td>int64</td>\n    </tr>\n    <tr>\n      <th>sex</th>\n      <td>303</td>\n      <td>0</td>\n      <td>100.0</td>\n      <td>2</td>\n      <td>[1, 0]</td>\n      <td>int64</td>\n    </tr>\n    <tr>\n      <th>cp</th>\n      <td>303</td>\n      <td>0</td>\n      <td>100.0</td>\n      <td>4</td>\n      <td>[3, 2, 1, 0]</td>\n      <td>int64</td>\n    </tr>\n    <tr>\n      <th>trestbps</th>\n      <td>303</td>\n      <td>0</td>\n      <td>100.0</td>\n      <td>49</td>\n      <td>[200, 192, 180, 178, 174, 172, 170, 165, 164, ...</td>\n      <td>int64</td>\n    </tr>\n    <tr>\n      <th>chol</th>\n      <td>303</td>\n      <td>0</td>\n      <td>100.0</td>\n      <td>152</td>\n      <td>[564, 417, 409, 407, 394, 360, 354, 353, 342, ...</td>\n      <td>int64</td>\n    </tr>\n    <tr>\n      <th>fbs</th>\n      <td>303</td>\n      <td>0</td>\n      <td>100.0</td>\n      <td>2</td>\n      <td>[1, 0]</td>\n      <td>int64</td>\n    </tr>\n    <tr>\n      <th>restecg</th>\n      <td>303</td>\n      <td>0</td>\n      <td>100.0</td>\n      <td>3</td>\n      <td>[2, 1, 0]</td>\n      <td>int64</td>\n    </tr>\n    <tr>\n      <th>thalach</th>\n      <td>303</td>\n      <td>0</td>\n      <td>100.0</td>\n      <td>91</td>\n      <td>[202, 195, 194, 192, 190, 188, 187, 186, 185, ...</td>\n      <td>int64</td>\n    </tr>\n    <tr>\n      <th>exang</th>\n      <td>303</td>\n      <td>0</td>\n      <td>100.0</td>\n      <td>2</td>\n      <td>[1, 0]</td>\n      <td>int64</td>\n    </tr>\n    <tr>\n      <th>oldpeak</th>\n      <td>303</td>\n      <td>0</td>\n      <td>100.0</td>\n      <td>40</td>\n      <td>[6.2, 5.6, 4.4, 4.2, 4.0, 3.8, 3.6, 3.5, 3.4, ...</td>\n      <td>float64</td>\n    </tr>\n    <tr>\n      <th>slope</th>\n      <td>303</td>\n      <td>0</td>\n      <td>100.0</td>\n      <td>3</td>\n      <td>[2, 1, 0]</td>\n      <td>int64</td>\n    </tr>\n    <tr>\n      <th>ca</th>\n      <td>303</td>\n      <td>0</td>\n      <td>100.0</td>\n      <td>5</td>\n      <td>[4, 3, 2, 1, 0]</td>\n      <td>int64</td>\n    </tr>\n    <tr>\n      <th>thal</th>\n      <td>303</td>\n      <td>0</td>\n      <td>100.0</td>\n      <td>4</td>\n      <td>[3, 2, 1, 0]</td>\n      <td>int64</td>\n    </tr>\n    <tr>\n      <th>target</th>\n      <td>303</td>\n      <td>0</td>\n      <td>100.0</td>\n      <td>2</td>\n      <td>[1, 0]</td>\n      <td>int64</td>\n    </tr>\n  </tbody>\n</table>\n</div>"
     },
     "execution_count": 19,
     "metadata": {},
     "output_type": "execute_result"
    }
   ],
   "source": [
    "create_general_analysis(pd.read_csv('Heart Attack Data Set.csv'))"
   ],
   "metadata": {
    "collapsed": false,
    "pycharm": {
     "name": "#%%\n"
    }
   }
  },
  {
   "cell_type": "code",
   "execution_count": null,
   "outputs": [],
   "source": [],
   "metadata": {
    "collapsed": false,
    "pycharm": {
     "name": "#%%\n"
    }
   }
  }
 ],
 "metadata": {
  "kernelspec": {
   "display_name": "Python 3",
   "language": "python",
   "name": "python3"
  },
  "language_info": {
   "codemirror_mode": {
    "name": "ipython",
    "version": 2
   },
   "file_extension": ".py",
   "mimetype": "text/x-python",
   "name": "python",
   "nbconvert_exporter": "python",
   "pygments_lexer": "ipython2",
   "version": "2.7.6"
  }
 },
 "nbformat": 4,
 "nbformat_minor": 0
}